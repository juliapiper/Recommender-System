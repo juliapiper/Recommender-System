{
  "nbformat": 4,
  "nbformat_minor": 0,
  "metadata": {
    "colab": {
      "provenance": [],
      "collapsed_sections": [
        "PQIGxtkmjvxd"
      ]
    },
    "kernelspec": {
      "name": "python3",
      "display_name": "Python 3"
    },
    "language_info": {
      "name": "python"
    }
  },
  "cells": [
    {
      "cell_type": "markdown",
      "source": [
        "#Project Guidelines"
      ],
      "metadata": {
        "id": "QoDvNr2qFMbC"
      }
    },
    {
      "cell_type": "markdown",
      "source": [
        "1. Choose the data set of your interest.  Make sure your data set has required features such as contents for content-based filtering and user-item interactions (ratings or similar measure) for collaborating filtering.\n",
        "\n",
        "2. Data cleaning and preprocessing is a crucial component of the project. Reflect sufficient efforts on this section on your project.\n",
        "\n",
        "3. Build three different recommender systems:\n",
        "\n",
        "**Content-based recommender system**\n",
        "\n",
        "At the end of the work, you will define a function such as content_based_recommender( ) which takes two inputs: title/item name  and number of recommendations and the output: a list of recommended title/item name similar to the input title/item.\n",
        "\n",
        "**Collaborative based recommender system using either knn or svd**\n",
        "\n",
        "At  the end of the work, you will define a function such as collaborative_recommender( ) which takes two inputs: user_id & number of recommendations and the output: a list of recommended title/item recommended for the user.\n",
        "\n",
        "**Hybrid recommender system**\n",
        "\n",
        "You will combine both content-based and collaborative filtering ( as we did in class). You will define a function such as hybrid_recommender( ) which takes three inputs: title/item, user_id, and number of recommended item based on given item and user"
      ],
      "metadata": {
        "id": "xyBcB8QiFTMZ"
      }
    },
    {
      "cell_type": "markdown",
      "source": [
        "## Grading Criteria"
      ],
      "metadata": {
        "id": "TB9PDArmF2pk"
      }
    },
    {
      "cell_type": "markdown",
      "source": [
        "1. Project description (3 points): Explain your dataset, features that your are including in your model, and goal of your project.\n",
        "\n",
        "2. Organization of the notebook file (3 points):  Have an appropriate title for the project,  headlines and their levels for each section so that you can squeeze into one chunk for each model. Write a clear comment for each chunk of code explaining the operations/functions of them.\n",
        "\n",
        "3. Data cleaning and preprocessing ( 7 points) :\n",
        "\n",
        "4. Efforts and practicality of the model ( 7 points):  Make sure your project reflects the effort you made to get the best possible result. Also, make sure the efficiency of your model. I recommend to go over the reference text book \"Hands-On Recommendation Systems with Python\" which is available online in our MK library.\n",
        "\n"
      ],
      "metadata": {
        "id": "m56unresF4sq"
      }
    },
    {
      "cell_type": "markdown",
      "source": [
        "#Creating Online Retail Recommender Systems\n",
        "- Dataset source: https://archive.ics.uci.edu/dataset/352/online+retail"
      ],
      "metadata": {
        "id": "xPZzCkMMV_iY"
      }
    },
    {
      "cell_type": "markdown",
      "source": [
        "##Project Description"
      ],
      "metadata": {
        "id": "OUdnv0WlILx-"
      }
    },
    {
      "cell_type": "markdown",
      "source": [
        "**Explain your dataset:** This data set is transnational and contains the transactions from a UK-based online retail company occuring between 1/12/2010 and 9/12/2011. This business sells \"unique all-occasion gifts\"."
      ],
      "metadata": {
        "id": "SLh9ppyeGj9c"
      }
    },
    {
      "cell_type": "markdown",
      "source": [
        "**Features in this dataset:**\n",
        "\n",
        "*   InvoiceNo - 6-digit unique number assigned to each transaction. Starting with a 'c' indicates a cancellation\n",
        "*   StockCode - 5-digit unique number assigned to each product\n",
        "*   Description - Name of product\n",
        "*   Quantity - Quantity of item purchased per transaction\n",
        "*   InvoiceDate - Date and time of transaction\n",
        "*   UnitPrice - Product price of a single unit\n",
        "*   CustomerID - 5-digit unique number assigned to each customer\n",
        "*   Country - customers country of residence\n",
        "\n",
        "**Features used in the model**\n",
        "\n",
        "InvoiceNo, Description, StockCode , UnitPrice, CustomerID, Country, Quantity, and month. The month of purchase was extracted from the InvoiceDate to give a broader generalization of seasonal buying.\n",
        "\n"
      ],
      "metadata": {
        "id": "SsdX0hXGHAXW"
      }
    },
    {
      "cell_type": "markdown",
      "source": [
        "**Goal of this project:** The goal of this project is to create a content-based, collabrative, and hybrid recommender system that recommends diverse products to a user in order to encourage more pruchases."
      ],
      "metadata": {
        "id": "jRNtJyGIIQNH"
      }
    },
    {
      "cell_type": "markdown",
      "source": [
        "##Reading data:"
      ],
      "metadata": {
        "id": "u131kC6jWFEk"
      }
    },
    {
      "cell_type": "code",
      "source": [
        "#mounting Drive\n",
        "from google.colab import drive\n",
        "drive.mount('/content/drive')"
      ],
      "metadata": {
        "colab": {
          "base_uri": "https://localhost:8080/"
        },
        "id": "Hw3ghYHKDRYP",
        "outputId": "1772cbe5-4def-427b-d2b7-b2fcfea11ec5"
      },
      "execution_count": null,
      "outputs": [
        {
          "output_type": "stream",
          "name": "stdout",
          "text": [
            "Mounted at /content/drive\n"
          ]
        }
      ]
    },
    {
      "cell_type": "code",
      "source": [
        "# read data for Julia\n",
        "#import pandas as pd\n",
        "#retail= pd.read_csv('/content/drive/MyDrive/DSC201/Project1/OnlineRetail.csv')"
      ],
      "metadata": {
        "id": "rYU-9geA4X11"
      },
      "execution_count": null,
      "outputs": []
    },
    {
      "cell_type": "code",
      "source": [
        "# read data for Josie\n",
        "import pandas as pd\n",
        "retail= pd.read_csv('/content/drive/MyDrive/OnlineRetail.csv')"
      ],
      "metadata": {
        "id": "dAGYpuMjh_8t"
      },
      "execution_count": null,
      "outputs": []
    },
    {
      "cell_type": "code",
      "source": [
        "retail.head()"
      ],
      "metadata": {
        "colab": {
          "base_uri": "https://localhost:8080/",
          "height": 289
        },
        "id": "sUWJaDVSXZNE",
        "outputId": "6a258e2b-6383-48d1-f85f-5919e13bca71"
      },
      "execution_count": null,
      "outputs": [
        {
          "output_type": "execute_result",
          "data": {
            "text/plain": [
              "  InvoiceNo StockCode                          Description  Quantity  \\\n",
              "0    536365    85123A   WHITE HANGING HEART T-LIGHT HOLDER         6   \n",
              "1    536365     71053                  WHITE METAL LANTERN         6   \n",
              "2    536365    84406B       CREAM CUPID HEARTS COAT HANGER         8   \n",
              "3    536365    84029G  KNITTED UNION FLAG HOT WATER BOTTLE         6   \n",
              "4    536365    84029E       RED WOOLLY HOTTIE WHITE HEART.         6   \n",
              "\n",
              "    InvoiceDate  UnitPrice  CustomerID         Country  \n",
              "0  12/1/10 8:26       2.55     17850.0  United Kingdom  \n",
              "1  12/1/10 8:26       3.39     17850.0  United Kingdom  \n",
              "2  12/1/10 8:26       2.75     17850.0  United Kingdom  \n",
              "3  12/1/10 8:26       3.39     17850.0  United Kingdom  \n",
              "4  12/1/10 8:26       3.39     17850.0  United Kingdom  "
            ],
            "text/html": [
              "\n",
              "  <div id=\"df-c6233858-5747-470e-91fa-4e8d45b0336b\" class=\"colab-df-container\">\n",
              "    <div>\n",
              "<style scoped>\n",
              "    .dataframe tbody tr th:only-of-type {\n",
              "        vertical-align: middle;\n",
              "    }\n",
              "\n",
              "    .dataframe tbody tr th {\n",
              "        vertical-align: top;\n",
              "    }\n",
              "\n",
              "    .dataframe thead th {\n",
              "        text-align: right;\n",
              "    }\n",
              "</style>\n",
              "<table border=\"1\" class=\"dataframe\">\n",
              "  <thead>\n",
              "    <tr style=\"text-align: right;\">\n",
              "      <th></th>\n",
              "      <th>InvoiceNo</th>\n",
              "      <th>StockCode</th>\n",
              "      <th>Description</th>\n",
              "      <th>Quantity</th>\n",
              "      <th>InvoiceDate</th>\n",
              "      <th>UnitPrice</th>\n",
              "      <th>CustomerID</th>\n",
              "      <th>Country</th>\n",
              "    </tr>\n",
              "  </thead>\n",
              "  <tbody>\n",
              "    <tr>\n",
              "      <th>0</th>\n",
              "      <td>536365</td>\n",
              "      <td>85123A</td>\n",
              "      <td>WHITE HANGING HEART T-LIGHT HOLDER</td>\n",
              "      <td>6</td>\n",
              "      <td>12/1/10 8:26</td>\n",
              "      <td>2.55</td>\n",
              "      <td>17850.0</td>\n",
              "      <td>United Kingdom</td>\n",
              "    </tr>\n",
              "    <tr>\n",
              "      <th>1</th>\n",
              "      <td>536365</td>\n",
              "      <td>71053</td>\n",
              "      <td>WHITE METAL LANTERN</td>\n",
              "      <td>6</td>\n",
              "      <td>12/1/10 8:26</td>\n",
              "      <td>3.39</td>\n",
              "      <td>17850.0</td>\n",
              "      <td>United Kingdom</td>\n",
              "    </tr>\n",
              "    <tr>\n",
              "      <th>2</th>\n",
              "      <td>536365</td>\n",
              "      <td>84406B</td>\n",
              "      <td>CREAM CUPID HEARTS COAT HANGER</td>\n",
              "      <td>8</td>\n",
              "      <td>12/1/10 8:26</td>\n",
              "      <td>2.75</td>\n",
              "      <td>17850.0</td>\n",
              "      <td>United Kingdom</td>\n",
              "    </tr>\n",
              "    <tr>\n",
              "      <th>3</th>\n",
              "      <td>536365</td>\n",
              "      <td>84029G</td>\n",
              "      <td>KNITTED UNION FLAG HOT WATER BOTTLE</td>\n",
              "      <td>6</td>\n",
              "      <td>12/1/10 8:26</td>\n",
              "      <td>3.39</td>\n",
              "      <td>17850.0</td>\n",
              "      <td>United Kingdom</td>\n",
              "    </tr>\n",
              "    <tr>\n",
              "      <th>4</th>\n",
              "      <td>536365</td>\n",
              "      <td>84029E</td>\n",
              "      <td>RED WOOLLY HOTTIE WHITE HEART.</td>\n",
              "      <td>6</td>\n",
              "      <td>12/1/10 8:26</td>\n",
              "      <td>3.39</td>\n",
              "      <td>17850.0</td>\n",
              "      <td>United Kingdom</td>\n",
              "    </tr>\n",
              "  </tbody>\n",
              "</table>\n",
              "</div>\n",
              "    <div class=\"colab-df-buttons\">\n",
              "\n",
              "  <div class=\"colab-df-container\">\n",
              "    <button class=\"colab-df-convert\" onclick=\"convertToInteractive('df-c6233858-5747-470e-91fa-4e8d45b0336b')\"\n",
              "            title=\"Convert this dataframe to an interactive table.\"\n",
              "            style=\"display:none;\">\n",
              "\n",
              "  <svg xmlns=\"http://www.w3.org/2000/svg\" height=\"24px\" viewBox=\"0 -960 960 960\">\n",
              "    <path d=\"M120-120v-720h720v720H120Zm60-500h600v-160H180v160Zm220 220h160v-160H400v160Zm0 220h160v-160H400v160ZM180-400h160v-160H180v160Zm440 0h160v-160H620v160ZM180-180h160v-160H180v160Zm440 0h160v-160H620v160Z\"/>\n",
              "  </svg>\n",
              "    </button>\n",
              "\n",
              "  <style>\n",
              "    .colab-df-container {\n",
              "      display:flex;\n",
              "      gap: 12px;\n",
              "    }\n",
              "\n",
              "    .colab-df-convert {\n",
              "      background-color: #E8F0FE;\n",
              "      border: none;\n",
              "      border-radius: 50%;\n",
              "      cursor: pointer;\n",
              "      display: none;\n",
              "      fill: #1967D2;\n",
              "      height: 32px;\n",
              "      padding: 0 0 0 0;\n",
              "      width: 32px;\n",
              "    }\n",
              "\n",
              "    .colab-df-convert:hover {\n",
              "      background-color: #E2EBFA;\n",
              "      box-shadow: 0px 1px 2px rgba(60, 64, 67, 0.3), 0px 1px 3px 1px rgba(60, 64, 67, 0.15);\n",
              "      fill: #174EA6;\n",
              "    }\n",
              "\n",
              "    .colab-df-buttons div {\n",
              "      margin-bottom: 4px;\n",
              "    }\n",
              "\n",
              "    [theme=dark] .colab-df-convert {\n",
              "      background-color: #3B4455;\n",
              "      fill: #D2E3FC;\n",
              "    }\n",
              "\n",
              "    [theme=dark] .colab-df-convert:hover {\n",
              "      background-color: #434B5C;\n",
              "      box-shadow: 0px 1px 3px 1px rgba(0, 0, 0, 0.15);\n",
              "      filter: drop-shadow(0px 1px 2px rgba(0, 0, 0, 0.3));\n",
              "      fill: #FFFFFF;\n",
              "    }\n",
              "  </style>\n",
              "\n",
              "    <script>\n",
              "      const buttonEl =\n",
              "        document.querySelector('#df-c6233858-5747-470e-91fa-4e8d45b0336b button.colab-df-convert');\n",
              "      buttonEl.style.display =\n",
              "        google.colab.kernel.accessAllowed ? 'block' : 'none';\n",
              "\n",
              "      async function convertToInteractive(key) {\n",
              "        const element = document.querySelector('#df-c6233858-5747-470e-91fa-4e8d45b0336b');\n",
              "        const dataTable =\n",
              "          await google.colab.kernel.invokeFunction('convertToInteractive',\n",
              "                                                    [key], {});\n",
              "        if (!dataTable) return;\n",
              "\n",
              "        const docLinkHtml = 'Like what you see? Visit the ' +\n",
              "          '<a target=\"_blank\" href=https://colab.research.google.com/notebooks/data_table.ipynb>data table notebook</a>'\n",
              "          + ' to learn more about interactive tables.';\n",
              "        element.innerHTML = '';\n",
              "        dataTable['output_type'] = 'display_data';\n",
              "        await google.colab.output.renderOutput(dataTable, element);\n",
              "        const docLink = document.createElement('div');\n",
              "        docLink.innerHTML = docLinkHtml;\n",
              "        element.appendChild(docLink);\n",
              "      }\n",
              "    </script>\n",
              "  </div>\n",
              "\n",
              "\n",
              "<div id=\"df-bb510baf-0155-4564-8615-7d747d09b0f0\">\n",
              "  <button class=\"colab-df-quickchart\" onclick=\"quickchart('df-bb510baf-0155-4564-8615-7d747d09b0f0')\"\n",
              "            title=\"Suggest charts.\"\n",
              "            style=\"display:none;\">\n",
              "\n",
              "<svg xmlns=\"http://www.w3.org/2000/svg\" height=\"24px\"viewBox=\"0 0 24 24\"\n",
              "     width=\"24px\">\n",
              "    <g>\n",
              "        <path d=\"M19 3H5c-1.1 0-2 .9-2 2v14c0 1.1.9 2 2 2h14c1.1 0 2-.9 2-2V5c0-1.1-.9-2-2-2zM9 17H7v-7h2v7zm4 0h-2V7h2v10zm4 0h-2v-4h2v4z\"/>\n",
              "    </g>\n",
              "</svg>\n",
              "  </button>\n",
              "\n",
              "<style>\n",
              "  .colab-df-quickchart {\n",
              "      --bg-color: #E8F0FE;\n",
              "      --fill-color: #1967D2;\n",
              "      --hover-bg-color: #E2EBFA;\n",
              "      --hover-fill-color: #174EA6;\n",
              "      --disabled-fill-color: #AAA;\n",
              "      --disabled-bg-color: #DDD;\n",
              "  }\n",
              "\n",
              "  [theme=dark] .colab-df-quickchart {\n",
              "      --bg-color: #3B4455;\n",
              "      --fill-color: #D2E3FC;\n",
              "      --hover-bg-color: #434B5C;\n",
              "      --hover-fill-color: #FFFFFF;\n",
              "      --disabled-bg-color: #3B4455;\n",
              "      --disabled-fill-color: #666;\n",
              "  }\n",
              "\n",
              "  .colab-df-quickchart {\n",
              "    background-color: var(--bg-color);\n",
              "    border: none;\n",
              "    border-radius: 50%;\n",
              "    cursor: pointer;\n",
              "    display: none;\n",
              "    fill: var(--fill-color);\n",
              "    height: 32px;\n",
              "    padding: 0;\n",
              "    width: 32px;\n",
              "  }\n",
              "\n",
              "  .colab-df-quickchart:hover {\n",
              "    background-color: var(--hover-bg-color);\n",
              "    box-shadow: 0 1px 2px rgba(60, 64, 67, 0.3), 0 1px 3px 1px rgba(60, 64, 67, 0.15);\n",
              "    fill: var(--button-hover-fill-color);\n",
              "  }\n",
              "\n",
              "  .colab-df-quickchart-complete:disabled,\n",
              "  .colab-df-quickchart-complete:disabled:hover {\n",
              "    background-color: var(--disabled-bg-color);\n",
              "    fill: var(--disabled-fill-color);\n",
              "    box-shadow: none;\n",
              "  }\n",
              "\n",
              "  .colab-df-spinner {\n",
              "    border: 2px solid var(--fill-color);\n",
              "    border-color: transparent;\n",
              "    border-bottom-color: var(--fill-color);\n",
              "    animation:\n",
              "      spin 1s steps(1) infinite;\n",
              "  }\n",
              "\n",
              "  @keyframes spin {\n",
              "    0% {\n",
              "      border-color: transparent;\n",
              "      border-bottom-color: var(--fill-color);\n",
              "      border-left-color: var(--fill-color);\n",
              "    }\n",
              "    20% {\n",
              "      border-color: transparent;\n",
              "      border-left-color: var(--fill-color);\n",
              "      border-top-color: var(--fill-color);\n",
              "    }\n",
              "    30% {\n",
              "      border-color: transparent;\n",
              "      border-left-color: var(--fill-color);\n",
              "      border-top-color: var(--fill-color);\n",
              "      border-right-color: var(--fill-color);\n",
              "    }\n",
              "    40% {\n",
              "      border-color: transparent;\n",
              "      border-right-color: var(--fill-color);\n",
              "      border-top-color: var(--fill-color);\n",
              "    }\n",
              "    60% {\n",
              "      border-color: transparent;\n",
              "      border-right-color: var(--fill-color);\n",
              "    }\n",
              "    80% {\n",
              "      border-color: transparent;\n",
              "      border-right-color: var(--fill-color);\n",
              "      border-bottom-color: var(--fill-color);\n",
              "    }\n",
              "    90% {\n",
              "      border-color: transparent;\n",
              "      border-bottom-color: var(--fill-color);\n",
              "    }\n",
              "  }\n",
              "</style>\n",
              "\n",
              "  <script>\n",
              "    async function quickchart(key) {\n",
              "      const quickchartButtonEl =\n",
              "        document.querySelector('#' + key + ' button');\n",
              "      quickchartButtonEl.disabled = true;  // To prevent multiple clicks.\n",
              "      quickchartButtonEl.classList.add('colab-df-spinner');\n",
              "      try {\n",
              "        const charts = await google.colab.kernel.invokeFunction(\n",
              "            'suggestCharts', [key], {});\n",
              "      } catch (error) {\n",
              "        console.error('Error during call to suggestCharts:', error);\n",
              "      }\n",
              "      quickchartButtonEl.classList.remove('colab-df-spinner');\n",
              "      quickchartButtonEl.classList.add('colab-df-quickchart-complete');\n",
              "    }\n",
              "    (() => {\n",
              "      let quickchartButtonEl =\n",
              "        document.querySelector('#df-bb510baf-0155-4564-8615-7d747d09b0f0 button');\n",
              "      quickchartButtonEl.style.display =\n",
              "        google.colab.kernel.accessAllowed ? 'block' : 'none';\n",
              "    })();\n",
              "  </script>\n",
              "</div>\n",
              "    </div>\n",
              "  </div>\n"
            ]
          },
          "metadata": {},
          "execution_count": 3
        }
      ]
    },
    {
      "cell_type": "code",
      "source": [
        "# there is 541909 items and 8 descriptors\n",
        "retail.shape"
      ],
      "metadata": {
        "colab": {
          "base_uri": "https://localhost:8080/"
        },
        "id": "GOxAUh1tYLJW",
        "outputId": "1b99a877-dfd3-4cbe-f7db-d58ac1eaec2e"
      },
      "execution_count": null,
      "outputs": [
        {
          "output_type": "execute_result",
          "data": {
            "text/plain": [
              "(541909, 8)"
            ]
          },
          "metadata": {},
          "execution_count": 4
        }
      ]
    },
    {
      "cell_type": "code",
      "source": [
        "# 8 descriptors\n",
        "retail.columns"
      ],
      "metadata": {
        "colab": {
          "base_uri": "https://localhost:8080/"
        },
        "id": "HnOJK_te0j1_",
        "outputId": "c35773cb-4bf0-4773-9e67-c2d9158624c9"
      },
      "execution_count": null,
      "outputs": [
        {
          "output_type": "execute_result",
          "data": {
            "text/plain": [
              "Index(['InvoiceNo', 'StockCode', 'Description', 'Quantity', 'InvoiceDate',\n",
              "       'UnitPrice', 'CustomerID', 'Country'],\n",
              "      dtype='object')"
            ]
          },
          "metadata": {},
          "execution_count": 5
        }
      ]
    },
    {
      "cell_type": "markdown",
      "source": [
        "##Data Cleaning and Preproccessing:"
      ],
      "metadata": {
        "id": "wwd2Vfc4d8-_"
      }
    },
    {
      "cell_type": "code",
      "source": [
        "retail.dtypes"
      ],
      "metadata": {
        "colab": {
          "base_uri": "https://localhost:8080/"
        },
        "id": "1Mqi4acaXr9p",
        "outputId": "ed28b10c-94b2-4da6-a97a-ae6d22233a8a"
      },
      "execution_count": null,
      "outputs": [
        {
          "output_type": "execute_result",
          "data": {
            "text/plain": [
              "InvoiceNo       object\n",
              "StockCode       object\n",
              "Description     object\n",
              "Quantity         int64\n",
              "InvoiceDate     object\n",
              "UnitPrice      float64\n",
              "CustomerID     float64\n",
              "Country         object\n",
              "dtype: object"
            ]
          },
          "metadata": {},
          "execution_count": 6
        }
      ]
    },
    {
      "cell_type": "code",
      "source": [
        "#checking for missing values\n",
        "retail.isnull()\n",
        "number_of_missing_values = retail.isnull().sum()\n",
        "number_of_missing_values"
      ],
      "metadata": {
        "colab": {
          "base_uri": "https://localhost:8080/"
        },
        "id": "wRs-61CZX5rC",
        "outputId": "5bcd4b64-4da1-46df-9316-d7454ad796dc"
      },
      "execution_count": null,
      "outputs": [
        {
          "output_type": "execute_result",
          "data": {
            "text/plain": [
              "InvoiceNo           0\n",
              "StockCode           0\n",
              "Description      1454\n",
              "Quantity            0\n",
              "InvoiceDate         0\n",
              "UnitPrice           0\n",
              "CustomerID     135080\n",
              "Country             0\n",
              "dtype: int64"
            ]
          },
          "metadata": {},
          "execution_count": 7
        }
      ]
    },
    {
      "cell_type": "markdown",
      "source": [
        "Handling missing data:"
      ],
      "metadata": {
        "id": "VIcOxa59aB3I"
      }
    },
    {
      "cell_type": "code",
      "source": [
        "#drop all rows that are missing a costumer ID\n",
        "df = retail[retail['CustomerID'].notna()]\n",
        "df.shape"
      ],
      "metadata": {
        "colab": {
          "base_uri": "https://localhost:8080/"
        },
        "id": "CKCZq_NtZjWs",
        "outputId": "d0c8f6e9-124e-48de-a35e-569c5d47ade0"
      },
      "execution_count": null,
      "outputs": [
        {
          "output_type": "execute_result",
          "data": {
            "text/plain": [
              "(406829, 8)"
            ]
          },
          "metadata": {},
          "execution_count": 8
        }
      ]
    },
    {
      "cell_type": "code",
      "source": [
        "#checking for missing values\n",
        "df.isnull()\n",
        "number_of_missing_values = df.isnull().sum()\n",
        "number_of_missing_values"
      ],
      "metadata": {
        "colab": {
          "base_uri": "https://localhost:8080/"
        },
        "id": "BdopD_i_ZzQS",
        "outputId": "c327d508-c8b9-4969-edd8-e3cf8cc06e97"
      },
      "execution_count": null,
      "outputs": [
        {
          "output_type": "execute_result",
          "data": {
            "text/plain": [
              "InvoiceNo      0\n",
              "StockCode      0\n",
              "Description    0\n",
              "Quantity       0\n",
              "InvoiceDate    0\n",
              "UnitPrice      0\n",
              "CustomerID     0\n",
              "Country        0\n",
              "dtype: int64"
            ]
          },
          "metadata": {},
          "execution_count": 9
        }
      ]
    },
    {
      "cell_type": "markdown",
      "source": [
        "Checking for invalid values:"
      ],
      "metadata": {
        "id": "VNIQRJN_ab-p"
      }
    },
    {
      "cell_type": "code",
      "source": [
        "unique_values = sorted(df['Quantity'].unique())\n",
        "print(unique_values) #cannot have negative quanity"
      ],
      "metadata": {
        "colab": {
          "base_uri": "https://localhost:8080/"
        },
        "id": "roc9cykEakQw",
        "outputId": "b8902f22-9a36-4896-e649-e485574db87c"
      },
      "execution_count": null,
      "outputs": [
        {
          "output_type": "stream",
          "name": "stdout",
          "text": [
            "[-80995, -74215, -9360, -3114, -2000, -1930, -1515, -1350, -1300, -1296, -1200, -960, -840, -828, -756, -720, -701, -670, -624, -600, -576, -500, -480, -468, -432, -420, -408, -400, -360, -334, -324, -318, -312, -300, -288, -276, -252, -250, -244, -240, -234, -220, -200, -192, -186, -184, -180, -168, -164, -162, -160, -152, -150, -144, -140, -132, -130, -126, -121, -120, -113, -112, -110, -108, -102, -100, -96, -94, -86, -85, -82, -80, -79, -76, -75, -72, -70, -68, -67, -66, -64, -60, -58, -53, -52, -51, -50, -49, -48, -47, -46, -45, -43, -42, -40, -39, -38, -37, -36, -35, -34, -33, -32, -31, -30, -29, -28, -27, -26, -25, -24, -23, -22, -21, -20, -19, -18, -17, -16, -15, -14, -13, -12, -11, -10, -9, -8, -7, -6, -5, -4, -3, -2, -1, 1, 2, 3, 4, 5, 6, 7, 8, 9, 10, 11, 12, 13, 14, 15, 16, 17, 18, 19, 20, 21, 22, 23, 24, 25, 26, 27, 28, 29, 30, 31, 32, 33, 34, 35, 36, 37, 38, 39, 40, 41, 42, 43, 44, 45, 46, 47, 48, 49, 50, 51, 52, 53, 54, 55, 56, 57, 58, 59, 60, 62, 63, 64, 65, 66, 67, 69, 70, 72, 74, 75, 76, 78, 79, 80, 81, 83, 84, 85, 86, 87, 88, 89, 90, 92, 93, 94, 95, 96, 98, 100, 101, 102, 104, 108, 109, 110, 112, 114, 115, 116, 117, 120, 121, 124, 125, 126, 128, 129, 130, 132, 136, 139, 140, 141, 144, 147, 150, 151, 152, 156, 157, 160, 162, 168, 176, 180, 183, 186, 188, 192, 196, 198, 200, 204, 208, 210, 216, 220, 222, 224, 227, 228, 230, 232, 234, 236, 240, 244, 246, 248, 250, 252, 255, 256, 261, 264, 270, 272, 273, 276, 280, 288, 291, 300, 304, 306, 312, 320, 323, 324, 330, 336, 342, 348, 350, 352, 360, 378, 384, 388, 392, 396, 400, 402, 407, 408, 410, 416, 420, 428, 430, 432, 448, 450, 456, 462, 468, 480, 490, 492, 494, 496, 500, 504, 512, 528, 540, 552, 560, 576, 588, 600, 608, 612, 620, 624, 630, 640, 648, 660, 666, 670, 672, 684, 696, 698, 700, 701, 708, 720, 738, 744, 756, 760, 768, 774, 800, 824, 828, 832, 840, 852, 860, 864, 888, 900, 906, 912, 960, 968, 972, 992, 1000, 1008, 1010, 1020, 1056, 1120, 1152, 1200, 1284, 1296, 1300, 1350, 1356, 1394, 1400, 1404, 1412, 1428, 1440, 1488, 1500, 1515, 1540, 1600, 1728, 1788, 1824, 1878, 1900, 1930, 1944, 1992, 2000, 2040, 2100, 2160, 2400, 2592, 2700, 2880, 3000, 3114, 3186, 3906, 4300, 4800, 12540, 74215, 80995]\n"
          ]
        }
      ]
    },
    {
      "cell_type": "code",
      "source": [
        "value_counts = df['Quantity'].value_counts()\n",
        "value_counts"
      ],
      "metadata": {
        "colab": {
          "base_uri": "https://localhost:8080/"
        },
        "id": "hwkG5-n3mDFK",
        "outputId": "92ff7c54-d4a5-47d4-e9f7-464ff7f69ac2"
      },
      "execution_count": null,
      "outputs": [
        {
          "output_type": "execute_result",
          "data": {
            "text/plain": [
              " 1        73314\n",
              " 12       60033\n",
              " 2        58003\n",
              " 6        37688\n",
              " 4        32183\n",
              "          ...  \n",
              " 828          1\n",
              " 560          1\n",
              "-408          1\n",
              " 512          1\n",
              "-80995        1\n",
              "Name: Quantity, Length: 436, dtype: int64"
            ]
          },
          "metadata": {},
          "execution_count": 11
        }
      ]
    },
    {
      "cell_type": "code",
      "source": [
        "df = df[df['Quantity'] >= 0]\n",
        "df.shape"
      ],
      "metadata": {
        "colab": {
          "base_uri": "https://localhost:8080/"
        },
        "id": "SI2tq21bbORs",
        "outputId": "f7921f8f-0747-45b8-f6a4-e41ecb316830"
      },
      "execution_count": null,
      "outputs": [
        {
          "output_type": "execute_result",
          "data": {
            "text/plain": [
              "(397924, 8)"
            ]
          },
          "metadata": {},
          "execution_count": 12
        }
      ]
    },
    {
      "cell_type": "markdown",
      "source": [
        "lost 8905 values"
      ],
      "metadata": {
        "id": "0HCaXrjkMFZo"
      }
    },
    {
      "cell_type": "code",
      "source": [
        "country_counts = df['Country'].value_counts()\n",
        "country_counts"
      ],
      "metadata": {
        "colab": {
          "base_uri": "https://localhost:8080/"
        },
        "id": "oiJjmE7dlRXc",
        "outputId": "adf7a83b-5fa2-43dd-b0f2-6a6747b6bc17"
      },
      "execution_count": null,
      "outputs": [
        {
          "output_type": "execute_result",
          "data": {
            "text/plain": [
              "United Kingdom          354345\n",
              "Germany                   9042\n",
              "France                    8342\n",
              "EIRE                      7238\n",
              "Spain                     2485\n",
              "Netherlands               2363\n",
              "Belgium                   2031\n",
              "Switzerland               1842\n",
              "Portugal                  1462\n",
              "Australia                 1185\n",
              "Norway                    1072\n",
              "Italy                      758\n",
              "Channel Islands            748\n",
              "Finland                    685\n",
              "Cyprus                     614\n",
              "Sweden                     451\n",
              "Austria                    398\n",
              "Denmark                    380\n",
              "Poland                     330\n",
              "Japan                      321\n",
              "Israel                     248\n",
              "Unspecified                244\n",
              "Singapore                  222\n",
              "Iceland                    182\n",
              "USA                        179\n",
              "Canada                     151\n",
              "Greece                     145\n",
              "Malta                      112\n",
              "United Arab Emirates        68\n",
              "European Community          60\n",
              "RSA                         58\n",
              "Lebanon                     45\n",
              "Lithuania                   35\n",
              "Brazil                      32\n",
              "Czech Republic              25\n",
              "Bahrain                     17\n",
              "Saudi Arabia                 9\n",
              "Name: Country, dtype: int64"
            ]
          },
          "metadata": {},
          "execution_count": 13
        }
      ]
    },
    {
      "cell_type": "code",
      "source": [
        "df.head(5)"
      ],
      "metadata": {
        "colab": {
          "base_uri": "https://localhost:8080/",
          "height": 289
        },
        "id": "r3yIQtMgb2Ka",
        "outputId": "ab3fd37f-014a-4643-9782-f446ab15da9c"
      },
      "execution_count": null,
      "outputs": [
        {
          "output_type": "execute_result",
          "data": {
            "text/plain": [
              "  InvoiceNo StockCode                          Description  Quantity  \\\n",
              "0    536365    85123A   WHITE HANGING HEART T-LIGHT HOLDER         6   \n",
              "1    536365     71053                  WHITE METAL LANTERN         6   \n",
              "2    536365    84406B       CREAM CUPID HEARTS COAT HANGER         8   \n",
              "3    536365    84029G  KNITTED UNION FLAG HOT WATER BOTTLE         6   \n",
              "4    536365    84029E       RED WOOLLY HOTTIE WHITE HEART.         6   \n",
              "\n",
              "    InvoiceDate  UnitPrice  CustomerID         Country  \n",
              "0  12/1/10 8:26       2.55     17850.0  United Kingdom  \n",
              "1  12/1/10 8:26       3.39     17850.0  United Kingdom  \n",
              "2  12/1/10 8:26       2.75     17850.0  United Kingdom  \n",
              "3  12/1/10 8:26       3.39     17850.0  United Kingdom  \n",
              "4  12/1/10 8:26       3.39     17850.0  United Kingdom  "
            ],
            "text/html": [
              "\n",
              "  <div id=\"df-21929043-b350-4f19-bb8a-5d93a5e8da37\" class=\"colab-df-container\">\n",
              "    <div>\n",
              "<style scoped>\n",
              "    .dataframe tbody tr th:only-of-type {\n",
              "        vertical-align: middle;\n",
              "    }\n",
              "\n",
              "    .dataframe tbody tr th {\n",
              "        vertical-align: top;\n",
              "    }\n",
              "\n",
              "    .dataframe thead th {\n",
              "        text-align: right;\n",
              "    }\n",
              "</style>\n",
              "<table border=\"1\" class=\"dataframe\">\n",
              "  <thead>\n",
              "    <tr style=\"text-align: right;\">\n",
              "      <th></th>\n",
              "      <th>InvoiceNo</th>\n",
              "      <th>StockCode</th>\n",
              "      <th>Description</th>\n",
              "      <th>Quantity</th>\n",
              "      <th>InvoiceDate</th>\n",
              "      <th>UnitPrice</th>\n",
              "      <th>CustomerID</th>\n",
              "      <th>Country</th>\n",
              "    </tr>\n",
              "  </thead>\n",
              "  <tbody>\n",
              "    <tr>\n",
              "      <th>0</th>\n",
              "      <td>536365</td>\n",
              "      <td>85123A</td>\n",
              "      <td>WHITE HANGING HEART T-LIGHT HOLDER</td>\n",
              "      <td>6</td>\n",
              "      <td>12/1/10 8:26</td>\n",
              "      <td>2.55</td>\n",
              "      <td>17850.0</td>\n",
              "      <td>United Kingdom</td>\n",
              "    </tr>\n",
              "    <tr>\n",
              "      <th>1</th>\n",
              "      <td>536365</td>\n",
              "      <td>71053</td>\n",
              "      <td>WHITE METAL LANTERN</td>\n",
              "      <td>6</td>\n",
              "      <td>12/1/10 8:26</td>\n",
              "      <td>3.39</td>\n",
              "      <td>17850.0</td>\n",
              "      <td>United Kingdom</td>\n",
              "    </tr>\n",
              "    <tr>\n",
              "      <th>2</th>\n",
              "      <td>536365</td>\n",
              "      <td>84406B</td>\n",
              "      <td>CREAM CUPID HEARTS COAT HANGER</td>\n",
              "      <td>8</td>\n",
              "      <td>12/1/10 8:26</td>\n",
              "      <td>2.75</td>\n",
              "      <td>17850.0</td>\n",
              "      <td>United Kingdom</td>\n",
              "    </tr>\n",
              "    <tr>\n",
              "      <th>3</th>\n",
              "      <td>536365</td>\n",
              "      <td>84029G</td>\n",
              "      <td>KNITTED UNION FLAG HOT WATER BOTTLE</td>\n",
              "      <td>6</td>\n",
              "      <td>12/1/10 8:26</td>\n",
              "      <td>3.39</td>\n",
              "      <td>17850.0</td>\n",
              "      <td>United Kingdom</td>\n",
              "    </tr>\n",
              "    <tr>\n",
              "      <th>4</th>\n",
              "      <td>536365</td>\n",
              "      <td>84029E</td>\n",
              "      <td>RED WOOLLY HOTTIE WHITE HEART.</td>\n",
              "      <td>6</td>\n",
              "      <td>12/1/10 8:26</td>\n",
              "      <td>3.39</td>\n",
              "      <td>17850.0</td>\n",
              "      <td>United Kingdom</td>\n",
              "    </tr>\n",
              "  </tbody>\n",
              "</table>\n",
              "</div>\n",
              "    <div class=\"colab-df-buttons\">\n",
              "\n",
              "  <div class=\"colab-df-container\">\n",
              "    <button class=\"colab-df-convert\" onclick=\"convertToInteractive('df-21929043-b350-4f19-bb8a-5d93a5e8da37')\"\n",
              "            title=\"Convert this dataframe to an interactive table.\"\n",
              "            style=\"display:none;\">\n",
              "\n",
              "  <svg xmlns=\"http://www.w3.org/2000/svg\" height=\"24px\" viewBox=\"0 -960 960 960\">\n",
              "    <path d=\"M120-120v-720h720v720H120Zm60-500h600v-160H180v160Zm220 220h160v-160H400v160Zm0 220h160v-160H400v160ZM180-400h160v-160H180v160Zm440 0h160v-160H620v160ZM180-180h160v-160H180v160Zm440 0h160v-160H620v160Z\"/>\n",
              "  </svg>\n",
              "    </button>\n",
              "\n",
              "  <style>\n",
              "    .colab-df-container {\n",
              "      display:flex;\n",
              "      gap: 12px;\n",
              "    }\n",
              "\n",
              "    .colab-df-convert {\n",
              "      background-color: #E8F0FE;\n",
              "      border: none;\n",
              "      border-radius: 50%;\n",
              "      cursor: pointer;\n",
              "      display: none;\n",
              "      fill: #1967D2;\n",
              "      height: 32px;\n",
              "      padding: 0 0 0 0;\n",
              "      width: 32px;\n",
              "    }\n",
              "\n",
              "    .colab-df-convert:hover {\n",
              "      background-color: #E2EBFA;\n",
              "      box-shadow: 0px 1px 2px rgba(60, 64, 67, 0.3), 0px 1px 3px 1px rgba(60, 64, 67, 0.15);\n",
              "      fill: #174EA6;\n",
              "    }\n",
              "\n",
              "    .colab-df-buttons div {\n",
              "      margin-bottom: 4px;\n",
              "    }\n",
              "\n",
              "    [theme=dark] .colab-df-convert {\n",
              "      background-color: #3B4455;\n",
              "      fill: #D2E3FC;\n",
              "    }\n",
              "\n",
              "    [theme=dark] .colab-df-convert:hover {\n",
              "      background-color: #434B5C;\n",
              "      box-shadow: 0px 1px 3px 1px rgba(0, 0, 0, 0.15);\n",
              "      filter: drop-shadow(0px 1px 2px rgba(0, 0, 0, 0.3));\n",
              "      fill: #FFFFFF;\n",
              "    }\n",
              "  </style>\n",
              "\n",
              "    <script>\n",
              "      const buttonEl =\n",
              "        document.querySelector('#df-21929043-b350-4f19-bb8a-5d93a5e8da37 button.colab-df-convert');\n",
              "      buttonEl.style.display =\n",
              "        google.colab.kernel.accessAllowed ? 'block' : 'none';\n",
              "\n",
              "      async function convertToInteractive(key) {\n",
              "        const element = document.querySelector('#df-21929043-b350-4f19-bb8a-5d93a5e8da37');\n",
              "        const dataTable =\n",
              "          await google.colab.kernel.invokeFunction('convertToInteractive',\n",
              "                                                    [key], {});\n",
              "        if (!dataTable) return;\n",
              "\n",
              "        const docLinkHtml = 'Like what you see? Visit the ' +\n",
              "          '<a target=\"_blank\" href=https://colab.research.google.com/notebooks/data_table.ipynb>data table notebook</a>'\n",
              "          + ' to learn more about interactive tables.';\n",
              "        element.innerHTML = '';\n",
              "        dataTable['output_type'] = 'display_data';\n",
              "        await google.colab.output.renderOutput(dataTable, element);\n",
              "        const docLink = document.createElement('div');\n",
              "        docLink.innerHTML = docLinkHtml;\n",
              "        element.appendChild(docLink);\n",
              "      }\n",
              "    </script>\n",
              "  </div>\n",
              "\n",
              "\n",
              "<div id=\"df-c7abf2a6-e740-4db9-ba24-c1d752d74b30\">\n",
              "  <button class=\"colab-df-quickchart\" onclick=\"quickchart('df-c7abf2a6-e740-4db9-ba24-c1d752d74b30')\"\n",
              "            title=\"Suggest charts.\"\n",
              "            style=\"display:none;\">\n",
              "\n",
              "<svg xmlns=\"http://www.w3.org/2000/svg\" height=\"24px\"viewBox=\"0 0 24 24\"\n",
              "     width=\"24px\">\n",
              "    <g>\n",
              "        <path d=\"M19 3H5c-1.1 0-2 .9-2 2v14c0 1.1.9 2 2 2h14c1.1 0 2-.9 2-2V5c0-1.1-.9-2-2-2zM9 17H7v-7h2v7zm4 0h-2V7h2v10zm4 0h-2v-4h2v4z\"/>\n",
              "    </g>\n",
              "</svg>\n",
              "  </button>\n",
              "\n",
              "<style>\n",
              "  .colab-df-quickchart {\n",
              "      --bg-color: #E8F0FE;\n",
              "      --fill-color: #1967D2;\n",
              "      --hover-bg-color: #E2EBFA;\n",
              "      --hover-fill-color: #174EA6;\n",
              "      --disabled-fill-color: #AAA;\n",
              "      --disabled-bg-color: #DDD;\n",
              "  }\n",
              "\n",
              "  [theme=dark] .colab-df-quickchart {\n",
              "      --bg-color: #3B4455;\n",
              "      --fill-color: #D2E3FC;\n",
              "      --hover-bg-color: #434B5C;\n",
              "      --hover-fill-color: #FFFFFF;\n",
              "      --disabled-bg-color: #3B4455;\n",
              "      --disabled-fill-color: #666;\n",
              "  }\n",
              "\n",
              "  .colab-df-quickchart {\n",
              "    background-color: var(--bg-color);\n",
              "    border: none;\n",
              "    border-radius: 50%;\n",
              "    cursor: pointer;\n",
              "    display: none;\n",
              "    fill: var(--fill-color);\n",
              "    height: 32px;\n",
              "    padding: 0;\n",
              "    width: 32px;\n",
              "  }\n",
              "\n",
              "  .colab-df-quickchart:hover {\n",
              "    background-color: var(--hover-bg-color);\n",
              "    box-shadow: 0 1px 2px rgba(60, 64, 67, 0.3), 0 1px 3px 1px rgba(60, 64, 67, 0.15);\n",
              "    fill: var(--button-hover-fill-color);\n",
              "  }\n",
              "\n",
              "  .colab-df-quickchart-complete:disabled,\n",
              "  .colab-df-quickchart-complete:disabled:hover {\n",
              "    background-color: var(--disabled-bg-color);\n",
              "    fill: var(--disabled-fill-color);\n",
              "    box-shadow: none;\n",
              "  }\n",
              "\n",
              "  .colab-df-spinner {\n",
              "    border: 2px solid var(--fill-color);\n",
              "    border-color: transparent;\n",
              "    border-bottom-color: var(--fill-color);\n",
              "    animation:\n",
              "      spin 1s steps(1) infinite;\n",
              "  }\n",
              "\n",
              "  @keyframes spin {\n",
              "    0% {\n",
              "      border-color: transparent;\n",
              "      border-bottom-color: var(--fill-color);\n",
              "      border-left-color: var(--fill-color);\n",
              "    }\n",
              "    20% {\n",
              "      border-color: transparent;\n",
              "      border-left-color: var(--fill-color);\n",
              "      border-top-color: var(--fill-color);\n",
              "    }\n",
              "    30% {\n",
              "      border-color: transparent;\n",
              "      border-left-color: var(--fill-color);\n",
              "      border-top-color: var(--fill-color);\n",
              "      border-right-color: var(--fill-color);\n",
              "    }\n",
              "    40% {\n",
              "      border-color: transparent;\n",
              "      border-right-color: var(--fill-color);\n",
              "      border-top-color: var(--fill-color);\n",
              "    }\n",
              "    60% {\n",
              "      border-color: transparent;\n",
              "      border-right-color: var(--fill-color);\n",
              "    }\n",
              "    80% {\n",
              "      border-color: transparent;\n",
              "      border-right-color: var(--fill-color);\n",
              "      border-bottom-color: var(--fill-color);\n",
              "    }\n",
              "    90% {\n",
              "      border-color: transparent;\n",
              "      border-bottom-color: var(--fill-color);\n",
              "    }\n",
              "  }\n",
              "</style>\n",
              "\n",
              "  <script>\n",
              "    async function quickchart(key) {\n",
              "      const quickchartButtonEl =\n",
              "        document.querySelector('#' + key + ' button');\n",
              "      quickchartButtonEl.disabled = true;  // To prevent multiple clicks.\n",
              "      quickchartButtonEl.classList.add('colab-df-spinner');\n",
              "      try {\n",
              "        const charts = await google.colab.kernel.invokeFunction(\n",
              "            'suggestCharts', [key], {});\n",
              "      } catch (error) {\n",
              "        console.error('Error during call to suggestCharts:', error);\n",
              "      }\n",
              "      quickchartButtonEl.classList.remove('colab-df-spinner');\n",
              "      quickchartButtonEl.classList.add('colab-df-quickchart-complete');\n",
              "    }\n",
              "    (() => {\n",
              "      let quickchartButtonEl =\n",
              "        document.querySelector('#df-c7abf2a6-e740-4db9-ba24-c1d752d74b30 button');\n",
              "      quickchartButtonEl.style.display =\n",
              "        google.colab.kernel.accessAllowed ? 'block' : 'none';\n",
              "    })();\n",
              "  </script>\n",
              "</div>\n",
              "    </div>\n",
              "  </div>\n"
            ]
          },
          "metadata": {},
          "execution_count": 14
        }
      ]
    },
    {
      "cell_type": "code",
      "source": [
        "# Extract month from invoicedate to generalize what month people bought certain things\n",
        "# - then drop invoiceDate\n",
        "df['InvoiceDate'] = pd.to_datetime(df['InvoiceDate'], format='%m/%d/%y %H:%M')\n",
        "#chatgpt used to figure out how to extract month\n",
        "\n",
        "# Extract month, make new column, and convert to float\n",
        "df['month'] = df['InvoiceDate'].dt.month.astype(float)"
      ],
      "metadata": {
        "id": "qNha9IMJlGac"
      },
      "execution_count": null,
      "outputs": []
    },
    {
      "cell_type": "code",
      "source": [
        "df = df.drop(columns=['InvoiceDate'])"
      ],
      "metadata": {
        "id": "ANCIq2tImazL"
      },
      "execution_count": null,
      "outputs": []
    },
    {
      "cell_type": "code",
      "source": [
        "# Convert InvoiceNo to float\n",
        "df['InvoiceNo'] = df['InvoiceNo'].astype(float)"
      ],
      "metadata": {
        "id": "M6PE6-h0l_rn"
      },
      "execution_count": null,
      "outputs": []
    },
    {
      "cell_type": "code",
      "source": [
        "df.dtypes"
      ],
      "metadata": {
        "colab": {
          "base_uri": "https://localhost:8080/"
        },
        "id": "oihl_aLOliEd",
        "outputId": "52c32a18-2ff6-490d-b92b-fafd159989ec"
      },
      "execution_count": null,
      "outputs": [
        {
          "output_type": "execute_result",
          "data": {
            "text/plain": [
              "InvoiceNo      float64\n",
              "StockCode       object\n",
              "Description     object\n",
              "Quantity         int64\n",
              "UnitPrice      float64\n",
              "CustomerID     float64\n",
              "Country         object\n",
              "month          float64\n",
              "dtype: object"
            ]
          },
          "metadata": {},
          "execution_count": 18
        }
      ]
    },
    {
      "cell_type": "markdown",
      "source": [
        "**General information about clean data**"
      ],
      "metadata": {
        "id": "GMmGBLt8cf_s"
      }
    },
    {
      "cell_type": "code",
      "source": [
        "df.CustomerID.nunique() #number of unique customers"
      ],
      "metadata": {
        "colab": {
          "base_uri": "https://localhost:8080/"
        },
        "id": "9SsM1RvKc2Hc",
        "outputId": "0eab48ca-570b-49eb-e0df-dd90409b05cc"
      },
      "execution_count": null,
      "outputs": [
        {
          "output_type": "execute_result",
          "data": {
            "text/plain": [
              "4339"
            ]
          },
          "metadata": {},
          "execution_count": 19
        }
      ]
    },
    {
      "cell_type": "code",
      "source": [
        "df.Description.nunique()"
      ],
      "metadata": {
        "colab": {
          "base_uri": "https://localhost:8080/"
        },
        "id": "P4lOLTakqAgK",
        "outputId": "75b9262e-e195-4f1d-cee1-6bb9cf7dc52e"
      },
      "execution_count": null,
      "outputs": [
        {
          "output_type": "execute_result",
          "data": {
            "text/plain": [
              "3877"
            ]
          },
          "metadata": {},
          "execution_count": 20
        }
      ]
    },
    {
      "cell_type": "code",
      "source": [
        "df.StockCode.nunique() #number of unique products"
      ],
      "metadata": {
        "colab": {
          "base_uri": "https://localhost:8080/"
        },
        "id": "ySgZs91xc9j-",
        "outputId": "12023772-905e-4550-9378-d4a4976bfc28"
      },
      "execution_count": null,
      "outputs": [
        {
          "output_type": "execute_result",
          "data": {
            "text/plain": [
              "3665"
            ]
          },
          "metadata": {},
          "execution_count": 21
        }
      ]
    },
    {
      "cell_type": "markdown",
      "source": [
        "proof stockcode and description are not entirely redundant features so keep both"
      ],
      "metadata": {
        "id": "_F5XsAizLRUc"
      }
    },
    {
      "cell_type": "code",
      "source": [
        "df.Quantity.nunique() #number of unique Quantities"
      ],
      "metadata": {
        "colab": {
          "base_uri": "https://localhost:8080/"
        },
        "id": "2qb0jGaZn7-c",
        "outputId": "0d264c92-085b-4856-8717-e89f38ba4395"
      },
      "execution_count": null,
      "outputs": [
        {
          "output_type": "execute_result",
          "data": {
            "text/plain": [
              "302"
            ]
          },
          "metadata": {},
          "execution_count": 22
        }
      ]
    },
    {
      "cell_type": "code",
      "source": [
        "int(df.Quantity.mean()) #average number of products bought per customer trip"
      ],
      "metadata": {
        "colab": {
          "base_uri": "https://localhost:8080/"
        },
        "id": "MCV2Dz20dAmB",
        "outputId": "501a931d-a74c-4d6d-e798-7b33677c37cd"
      },
      "execution_count": null,
      "outputs": [
        {
          "output_type": "execute_result",
          "data": {
            "text/plain": [
              "13"
            ]
          },
          "metadata": {},
          "execution_count": 23
        }
      ]
    },
    {
      "cell_type": "code",
      "source": [
        "max =df.Quantity.max()\n",
        "min= df.Quantity.min()\n",
        "\n",
        "print(min,\"-\",max, \"items\")"
      ],
      "metadata": {
        "colab": {
          "base_uri": "https://localhost:8080/"
        },
        "id": "Rp7UAbzsdGrc",
        "outputId": "c4b13f8f-c4a2-4456-a64d-0b24b4b2840a"
      },
      "execution_count": null,
      "outputs": [
        {
          "output_type": "stream",
          "name": "stdout",
          "text": [
            "1 - 80995 items\n"
          ]
        }
      ]
    },
    {
      "cell_type": "code",
      "source": [
        "int(df.UnitPrice.mean()) #average price was $3"
      ],
      "metadata": {
        "colab": {
          "base_uri": "https://localhost:8080/"
        },
        "id": "vWy2KoTYmrvt",
        "outputId": "05c377d5-2493-4ab5-b5af-d6f618a25900"
      },
      "execution_count": null,
      "outputs": [
        {
          "output_type": "execute_result",
          "data": {
            "text/plain": [
              "3"
            ]
          },
          "metadata": {},
          "execution_count": 25
        }
      ]
    },
    {
      "cell_type": "code",
      "source": [
        "max =df.UnitPrice.max()\n",
        "min= df.UnitPrice.min()\n",
        "\n",
        "print(\"$\",min,\"-\",max, )"
      ],
      "metadata": {
        "colab": {
          "base_uri": "https://localhost:8080/"
        },
        "id": "hjeS_000mtTi",
        "outputId": "acb94a35-606d-4547-f444-80598569de45"
      },
      "execution_count": null,
      "outputs": [
        {
          "output_type": "stream",
          "name": "stdout",
          "text": [
            "$ 0.0 - 8142.75\n"
          ]
        }
      ]
    },
    {
      "cell_type": "code",
      "source": [
        "df.head(5)"
      ],
      "metadata": {
        "colab": {
          "base_uri": "https://localhost:8080/",
          "height": 204
        },
        "id": "bXbFXncCkTmF",
        "outputId": "8651d9ba-a611-4342-fc38-fa273200ff43"
      },
      "execution_count": null,
      "outputs": [
        {
          "output_type": "execute_result",
          "data": {
            "text/plain": [
              "   InvoiceNo StockCode                          Description  Quantity  \\\n",
              "0   536365.0    85123A   WHITE HANGING HEART T-LIGHT HOLDER         6   \n",
              "1   536365.0     71053                  WHITE METAL LANTERN         6   \n",
              "2   536365.0    84406B       CREAM CUPID HEARTS COAT HANGER         8   \n",
              "3   536365.0    84029G  KNITTED UNION FLAG HOT WATER BOTTLE         6   \n",
              "4   536365.0    84029E       RED WOOLLY HOTTIE WHITE HEART.         6   \n",
              "\n",
              "   UnitPrice  CustomerID         Country  month  \n",
              "0       2.55     17850.0  United Kingdom   12.0  \n",
              "1       3.39     17850.0  United Kingdom   12.0  \n",
              "2       2.75     17850.0  United Kingdom   12.0  \n",
              "3       3.39     17850.0  United Kingdom   12.0  \n",
              "4       3.39     17850.0  United Kingdom   12.0  "
            ],
            "text/html": [
              "\n",
              "  <div id=\"df-b3374da9-e55e-4c40-9d40-c4f5346d7ce0\" class=\"colab-df-container\">\n",
              "    <div>\n",
              "<style scoped>\n",
              "    .dataframe tbody tr th:only-of-type {\n",
              "        vertical-align: middle;\n",
              "    }\n",
              "\n",
              "    .dataframe tbody tr th {\n",
              "        vertical-align: top;\n",
              "    }\n",
              "\n",
              "    .dataframe thead th {\n",
              "        text-align: right;\n",
              "    }\n",
              "</style>\n",
              "<table border=\"1\" class=\"dataframe\">\n",
              "  <thead>\n",
              "    <tr style=\"text-align: right;\">\n",
              "      <th></th>\n",
              "      <th>InvoiceNo</th>\n",
              "      <th>StockCode</th>\n",
              "      <th>Description</th>\n",
              "      <th>Quantity</th>\n",
              "      <th>UnitPrice</th>\n",
              "      <th>CustomerID</th>\n",
              "      <th>Country</th>\n",
              "      <th>month</th>\n",
              "    </tr>\n",
              "  </thead>\n",
              "  <tbody>\n",
              "    <tr>\n",
              "      <th>0</th>\n",
              "      <td>536365.0</td>\n",
              "      <td>85123A</td>\n",
              "      <td>WHITE HANGING HEART T-LIGHT HOLDER</td>\n",
              "      <td>6</td>\n",
              "      <td>2.55</td>\n",
              "      <td>17850.0</td>\n",
              "      <td>United Kingdom</td>\n",
              "      <td>12.0</td>\n",
              "    </tr>\n",
              "    <tr>\n",
              "      <th>1</th>\n",
              "      <td>536365.0</td>\n",
              "      <td>71053</td>\n",
              "      <td>WHITE METAL LANTERN</td>\n",
              "      <td>6</td>\n",
              "      <td>3.39</td>\n",
              "      <td>17850.0</td>\n",
              "      <td>United Kingdom</td>\n",
              "      <td>12.0</td>\n",
              "    </tr>\n",
              "    <tr>\n",
              "      <th>2</th>\n",
              "      <td>536365.0</td>\n",
              "      <td>84406B</td>\n",
              "      <td>CREAM CUPID HEARTS COAT HANGER</td>\n",
              "      <td>8</td>\n",
              "      <td>2.75</td>\n",
              "      <td>17850.0</td>\n",
              "      <td>United Kingdom</td>\n",
              "      <td>12.0</td>\n",
              "    </tr>\n",
              "    <tr>\n",
              "      <th>3</th>\n",
              "      <td>536365.0</td>\n",
              "      <td>84029G</td>\n",
              "      <td>KNITTED UNION FLAG HOT WATER BOTTLE</td>\n",
              "      <td>6</td>\n",
              "      <td>3.39</td>\n",
              "      <td>17850.0</td>\n",
              "      <td>United Kingdom</td>\n",
              "      <td>12.0</td>\n",
              "    </tr>\n",
              "    <tr>\n",
              "      <th>4</th>\n",
              "      <td>536365.0</td>\n",
              "      <td>84029E</td>\n",
              "      <td>RED WOOLLY HOTTIE WHITE HEART.</td>\n",
              "      <td>6</td>\n",
              "      <td>3.39</td>\n",
              "      <td>17850.0</td>\n",
              "      <td>United Kingdom</td>\n",
              "      <td>12.0</td>\n",
              "    </tr>\n",
              "  </tbody>\n",
              "</table>\n",
              "</div>\n",
              "    <div class=\"colab-df-buttons\">\n",
              "\n",
              "  <div class=\"colab-df-container\">\n",
              "    <button class=\"colab-df-convert\" onclick=\"convertToInteractive('df-b3374da9-e55e-4c40-9d40-c4f5346d7ce0')\"\n",
              "            title=\"Convert this dataframe to an interactive table.\"\n",
              "            style=\"display:none;\">\n",
              "\n",
              "  <svg xmlns=\"http://www.w3.org/2000/svg\" height=\"24px\" viewBox=\"0 -960 960 960\">\n",
              "    <path d=\"M120-120v-720h720v720H120Zm60-500h600v-160H180v160Zm220 220h160v-160H400v160Zm0 220h160v-160H400v160ZM180-400h160v-160H180v160Zm440 0h160v-160H620v160ZM180-180h160v-160H180v160Zm440 0h160v-160H620v160Z\"/>\n",
              "  </svg>\n",
              "    </button>\n",
              "\n",
              "  <style>\n",
              "    .colab-df-container {\n",
              "      display:flex;\n",
              "      gap: 12px;\n",
              "    }\n",
              "\n",
              "    .colab-df-convert {\n",
              "      background-color: #E8F0FE;\n",
              "      border: none;\n",
              "      border-radius: 50%;\n",
              "      cursor: pointer;\n",
              "      display: none;\n",
              "      fill: #1967D2;\n",
              "      height: 32px;\n",
              "      padding: 0 0 0 0;\n",
              "      width: 32px;\n",
              "    }\n",
              "\n",
              "    .colab-df-convert:hover {\n",
              "      background-color: #E2EBFA;\n",
              "      box-shadow: 0px 1px 2px rgba(60, 64, 67, 0.3), 0px 1px 3px 1px rgba(60, 64, 67, 0.15);\n",
              "      fill: #174EA6;\n",
              "    }\n",
              "\n",
              "    .colab-df-buttons div {\n",
              "      margin-bottom: 4px;\n",
              "    }\n",
              "\n",
              "    [theme=dark] .colab-df-convert {\n",
              "      background-color: #3B4455;\n",
              "      fill: #D2E3FC;\n",
              "    }\n",
              "\n",
              "    [theme=dark] .colab-df-convert:hover {\n",
              "      background-color: #434B5C;\n",
              "      box-shadow: 0px 1px 3px 1px rgba(0, 0, 0, 0.15);\n",
              "      filter: drop-shadow(0px 1px 2px rgba(0, 0, 0, 0.3));\n",
              "      fill: #FFFFFF;\n",
              "    }\n",
              "  </style>\n",
              "\n",
              "    <script>\n",
              "      const buttonEl =\n",
              "        document.querySelector('#df-b3374da9-e55e-4c40-9d40-c4f5346d7ce0 button.colab-df-convert');\n",
              "      buttonEl.style.display =\n",
              "        google.colab.kernel.accessAllowed ? 'block' : 'none';\n",
              "\n",
              "      async function convertToInteractive(key) {\n",
              "        const element = document.querySelector('#df-b3374da9-e55e-4c40-9d40-c4f5346d7ce0');\n",
              "        const dataTable =\n",
              "          await google.colab.kernel.invokeFunction('convertToInteractive',\n",
              "                                                    [key], {});\n",
              "        if (!dataTable) return;\n",
              "\n",
              "        const docLinkHtml = 'Like what you see? Visit the ' +\n",
              "          '<a target=\"_blank\" href=https://colab.research.google.com/notebooks/data_table.ipynb>data table notebook</a>'\n",
              "          + ' to learn more about interactive tables.';\n",
              "        element.innerHTML = '';\n",
              "        dataTable['output_type'] = 'display_data';\n",
              "        await google.colab.output.renderOutput(dataTable, element);\n",
              "        const docLink = document.createElement('div');\n",
              "        docLink.innerHTML = docLinkHtml;\n",
              "        element.appendChild(docLink);\n",
              "      }\n",
              "    </script>\n",
              "  </div>\n",
              "\n",
              "\n",
              "<div id=\"df-af5bb3d4-2e7b-42b6-9a3a-271501d88ce5\">\n",
              "  <button class=\"colab-df-quickchart\" onclick=\"quickchart('df-af5bb3d4-2e7b-42b6-9a3a-271501d88ce5')\"\n",
              "            title=\"Suggest charts.\"\n",
              "            style=\"display:none;\">\n",
              "\n",
              "<svg xmlns=\"http://www.w3.org/2000/svg\" height=\"24px\"viewBox=\"0 0 24 24\"\n",
              "     width=\"24px\">\n",
              "    <g>\n",
              "        <path d=\"M19 3H5c-1.1 0-2 .9-2 2v14c0 1.1.9 2 2 2h14c1.1 0 2-.9 2-2V5c0-1.1-.9-2-2-2zM9 17H7v-7h2v7zm4 0h-2V7h2v10zm4 0h-2v-4h2v4z\"/>\n",
              "    </g>\n",
              "</svg>\n",
              "  </button>\n",
              "\n",
              "<style>\n",
              "  .colab-df-quickchart {\n",
              "      --bg-color: #E8F0FE;\n",
              "      --fill-color: #1967D2;\n",
              "      --hover-bg-color: #E2EBFA;\n",
              "      --hover-fill-color: #174EA6;\n",
              "      --disabled-fill-color: #AAA;\n",
              "      --disabled-bg-color: #DDD;\n",
              "  }\n",
              "\n",
              "  [theme=dark] .colab-df-quickchart {\n",
              "      --bg-color: #3B4455;\n",
              "      --fill-color: #D2E3FC;\n",
              "      --hover-bg-color: #434B5C;\n",
              "      --hover-fill-color: #FFFFFF;\n",
              "      --disabled-bg-color: #3B4455;\n",
              "      --disabled-fill-color: #666;\n",
              "  }\n",
              "\n",
              "  .colab-df-quickchart {\n",
              "    background-color: var(--bg-color);\n",
              "    border: none;\n",
              "    border-radius: 50%;\n",
              "    cursor: pointer;\n",
              "    display: none;\n",
              "    fill: var(--fill-color);\n",
              "    height: 32px;\n",
              "    padding: 0;\n",
              "    width: 32px;\n",
              "  }\n",
              "\n",
              "  .colab-df-quickchart:hover {\n",
              "    background-color: var(--hover-bg-color);\n",
              "    box-shadow: 0 1px 2px rgba(60, 64, 67, 0.3), 0 1px 3px 1px rgba(60, 64, 67, 0.15);\n",
              "    fill: var(--button-hover-fill-color);\n",
              "  }\n",
              "\n",
              "  .colab-df-quickchart-complete:disabled,\n",
              "  .colab-df-quickchart-complete:disabled:hover {\n",
              "    background-color: var(--disabled-bg-color);\n",
              "    fill: var(--disabled-fill-color);\n",
              "    box-shadow: none;\n",
              "  }\n",
              "\n",
              "  .colab-df-spinner {\n",
              "    border: 2px solid var(--fill-color);\n",
              "    border-color: transparent;\n",
              "    border-bottom-color: var(--fill-color);\n",
              "    animation:\n",
              "      spin 1s steps(1) infinite;\n",
              "  }\n",
              "\n",
              "  @keyframes spin {\n",
              "    0% {\n",
              "      border-color: transparent;\n",
              "      border-bottom-color: var(--fill-color);\n",
              "      border-left-color: var(--fill-color);\n",
              "    }\n",
              "    20% {\n",
              "      border-color: transparent;\n",
              "      border-left-color: var(--fill-color);\n",
              "      border-top-color: var(--fill-color);\n",
              "    }\n",
              "    30% {\n",
              "      border-color: transparent;\n",
              "      border-left-color: var(--fill-color);\n",
              "      border-top-color: var(--fill-color);\n",
              "      border-right-color: var(--fill-color);\n",
              "    }\n",
              "    40% {\n",
              "      border-color: transparent;\n",
              "      border-right-color: var(--fill-color);\n",
              "      border-top-color: var(--fill-color);\n",
              "    }\n",
              "    60% {\n",
              "      border-color: transparent;\n",
              "      border-right-color: var(--fill-color);\n",
              "    }\n",
              "    80% {\n",
              "      border-color: transparent;\n",
              "      border-right-color: var(--fill-color);\n",
              "      border-bottom-color: var(--fill-color);\n",
              "    }\n",
              "    90% {\n",
              "      border-color: transparent;\n",
              "      border-bottom-color: var(--fill-color);\n",
              "    }\n",
              "  }\n",
              "</style>\n",
              "\n",
              "  <script>\n",
              "    async function quickchart(key) {\n",
              "      const quickchartButtonEl =\n",
              "        document.querySelector('#' + key + ' button');\n",
              "      quickchartButtonEl.disabled = true;  // To prevent multiple clicks.\n",
              "      quickchartButtonEl.classList.add('colab-df-spinner');\n",
              "      try {\n",
              "        const charts = await google.colab.kernel.invokeFunction(\n",
              "            'suggestCharts', [key], {});\n",
              "      } catch (error) {\n",
              "        console.error('Error during call to suggestCharts:', error);\n",
              "      }\n",
              "      quickchartButtonEl.classList.remove('colab-df-spinner');\n",
              "      quickchartButtonEl.classList.add('colab-df-quickchart-complete');\n",
              "    }\n",
              "    (() => {\n",
              "      let quickchartButtonEl =\n",
              "        document.querySelector('#df-af5bb3d4-2e7b-42b6-9a3a-271501d88ce5 button');\n",
              "      quickchartButtonEl.style.display =\n",
              "        google.colab.kernel.accessAllowed ? 'block' : 'none';\n",
              "    })();\n",
              "  </script>\n",
              "</div>\n",
              "    </div>\n",
              "  </div>\n"
            ]
          },
          "metadata": {},
          "execution_count": 27
        }
      ]
    },
    {
      "cell_type": "code",
      "source": [
        "# make clean data a csv + download it\n",
        "from google.colab import files\n",
        "file_name = \"df.csv\"\n",
        "\n",
        "# save the file to Colab's file system\n",
        "df.to_csv(file_name, index=False)\n",
        "\n",
        "#download the file to local machine\n",
        "files.download(file_name)"
      ],
      "metadata": {
        "colab": {
          "base_uri": "https://localhost:8080/",
          "height": 17
        },
        "id": "vWobLGasKzpf",
        "outputId": "cfc5c4bf-cbbe-4433-e11f-174c9fb5345d"
      },
      "execution_count": null,
      "outputs": [
        {
          "output_type": "display_data",
          "data": {
            "text/plain": [
              "<IPython.core.display.Javascript object>"
            ],
            "application/javascript": [
              "\n",
              "    async function download(id, filename, size) {\n",
              "      if (!google.colab.kernel.accessAllowed) {\n",
              "        return;\n",
              "      }\n",
              "      const div = document.createElement('div');\n",
              "      const label = document.createElement('label');\n",
              "      label.textContent = `Downloading \"${filename}\": `;\n",
              "      div.appendChild(label);\n",
              "      const progress = document.createElement('progress');\n",
              "      progress.max = size;\n",
              "      div.appendChild(progress);\n",
              "      document.body.appendChild(div);\n",
              "\n",
              "      const buffers = [];\n",
              "      let downloaded = 0;\n",
              "\n",
              "      const channel = await google.colab.kernel.comms.open(id);\n",
              "      // Send a message to notify the kernel that we're ready.\n",
              "      channel.send({})\n",
              "\n",
              "      for await (const message of channel.messages) {\n",
              "        // Send a message to notify the kernel that we're ready.\n",
              "        channel.send({})\n",
              "        if (message.buffers) {\n",
              "          for (const buffer of message.buffers) {\n",
              "            buffers.push(buffer);\n",
              "            downloaded += buffer.byteLength;\n",
              "            progress.value = downloaded;\n",
              "          }\n",
              "        }\n",
              "      }\n",
              "      const blob = new Blob(buffers, {type: 'application/binary'});\n",
              "      const a = document.createElement('a');\n",
              "      a.href = window.URL.createObjectURL(blob);\n",
              "      a.download = filename;\n",
              "      div.appendChild(a);\n",
              "      a.click();\n",
              "      div.remove();\n",
              "    }\n",
              "  "
            ]
          },
          "metadata": {}
        },
        {
          "output_type": "display_data",
          "data": {
            "text/plain": [
              "<IPython.core.display.Javascript object>"
            ],
            "application/javascript": [
              "download(\"download_bf016a56-2b8e-4ff0-be6f-5f13086e1604\", \"df.csv\", 30530165)"
            ]
          },
          "metadata": {}
        }
      ]
    },
    {
      "cell_type": "markdown",
      "source": [
        "# Recommender Systems:"
      ],
      "metadata": {
        "id": "tIUNNaetN49R"
      }
    },
    {
      "cell_type": "markdown",
      "source": [
        "### **Clean data as new DF**"
      ],
      "metadata": {
        "id": "D2ffoBaYK_sZ"
      }
    },
    {
      "cell_type": "code",
      "source": [
        "from google.colab import drive\n",
        "drive.mount('/content/drive')"
      ],
      "metadata": {
        "colab": {
          "base_uri": "https://localhost:8080/"
        },
        "id": "Kld9udXuLCoH",
        "outputId": "40dcc626-e188-4f18-9b28-0f2fac16ee65"
      },
      "execution_count": null,
      "outputs": [
        {
          "output_type": "stream",
          "name": "stdout",
          "text": [
            "Drive already mounted at /content/drive; to attempt to forcibly remount, call drive.mount(\"/content/drive\", force_remount=True).\n"
          ]
        }
      ]
    },
    {
      "cell_type": "code",
      "source": [
        "# read df for julia\n",
        "#import pandas as pd\n",
        "#df= pd.read_csv('/content/drive/MyDrive/DSC201/Project1/df.csv')"
      ],
      "metadata": {
        "id": "xc0ocpKYLFOQ"
      },
      "execution_count": null,
      "outputs": []
    },
    {
      "cell_type": "code",
      "source": [
        "# read df for josie\n",
        "import pandas as pd\n",
        "df= pd.read_csv('/content/drive/MyDrive/df.csv')"
      ],
      "metadata": {
        "id": "CTkO29YrjHal"
      },
      "execution_count": null,
      "outputs": []
    },
    {
      "cell_type": "code",
      "source": [
        "# check data frame\n",
        "df.head()"
      ],
      "metadata": {
        "id": "k7xo45NQnry5",
        "colab": {
          "base_uri": "https://localhost:8080/",
          "height": 204
        },
        "outputId": "d60e79d2-945c-4a47-95a2-0e8f88d002dc"
      },
      "execution_count": null,
      "outputs": [
        {
          "output_type": "execute_result",
          "data": {
            "text/plain": [
              "   InvoiceNo StockCode                          Description  Quantity  \\\n",
              "0   536365.0    85123A   WHITE HANGING HEART T-LIGHT HOLDER         6   \n",
              "1   536365.0     71053                  WHITE METAL LANTERN         6   \n",
              "2   536365.0    84406B       CREAM CUPID HEARTS COAT HANGER         8   \n",
              "3   536365.0    84029G  KNITTED UNION FLAG HOT WATER BOTTLE         6   \n",
              "4   536365.0    84029E       RED WOOLLY HOTTIE WHITE HEART.         6   \n",
              "\n",
              "   UnitPrice  CustomerID         Country  month  \n",
              "0       2.55     17850.0  United Kingdom   12.0  \n",
              "1       3.39     17850.0  United Kingdom   12.0  \n",
              "2       2.75     17850.0  United Kingdom   12.0  \n",
              "3       3.39     17850.0  United Kingdom   12.0  \n",
              "4       3.39     17850.0  United Kingdom   12.0  "
            ],
            "text/html": [
              "\n",
              "  <div id=\"df-d8bd5fd6-032b-49c9-8581-58402dd5f69c\" class=\"colab-df-container\">\n",
              "    <div>\n",
              "<style scoped>\n",
              "    .dataframe tbody tr th:only-of-type {\n",
              "        vertical-align: middle;\n",
              "    }\n",
              "\n",
              "    .dataframe tbody tr th {\n",
              "        vertical-align: top;\n",
              "    }\n",
              "\n",
              "    .dataframe thead th {\n",
              "        text-align: right;\n",
              "    }\n",
              "</style>\n",
              "<table border=\"1\" class=\"dataframe\">\n",
              "  <thead>\n",
              "    <tr style=\"text-align: right;\">\n",
              "      <th></th>\n",
              "      <th>InvoiceNo</th>\n",
              "      <th>StockCode</th>\n",
              "      <th>Description</th>\n",
              "      <th>Quantity</th>\n",
              "      <th>UnitPrice</th>\n",
              "      <th>CustomerID</th>\n",
              "      <th>Country</th>\n",
              "      <th>month</th>\n",
              "    </tr>\n",
              "  </thead>\n",
              "  <tbody>\n",
              "    <tr>\n",
              "      <th>0</th>\n",
              "      <td>536365.0</td>\n",
              "      <td>85123A</td>\n",
              "      <td>WHITE HANGING HEART T-LIGHT HOLDER</td>\n",
              "      <td>6</td>\n",
              "      <td>2.55</td>\n",
              "      <td>17850.0</td>\n",
              "      <td>United Kingdom</td>\n",
              "      <td>12.0</td>\n",
              "    </tr>\n",
              "    <tr>\n",
              "      <th>1</th>\n",
              "      <td>536365.0</td>\n",
              "      <td>71053</td>\n",
              "      <td>WHITE METAL LANTERN</td>\n",
              "      <td>6</td>\n",
              "      <td>3.39</td>\n",
              "      <td>17850.0</td>\n",
              "      <td>United Kingdom</td>\n",
              "      <td>12.0</td>\n",
              "    </tr>\n",
              "    <tr>\n",
              "      <th>2</th>\n",
              "      <td>536365.0</td>\n",
              "      <td>84406B</td>\n",
              "      <td>CREAM CUPID HEARTS COAT HANGER</td>\n",
              "      <td>8</td>\n",
              "      <td>2.75</td>\n",
              "      <td>17850.0</td>\n",
              "      <td>United Kingdom</td>\n",
              "      <td>12.0</td>\n",
              "    </tr>\n",
              "    <tr>\n",
              "      <th>3</th>\n",
              "      <td>536365.0</td>\n",
              "      <td>84029G</td>\n",
              "      <td>KNITTED UNION FLAG HOT WATER BOTTLE</td>\n",
              "      <td>6</td>\n",
              "      <td>3.39</td>\n",
              "      <td>17850.0</td>\n",
              "      <td>United Kingdom</td>\n",
              "      <td>12.0</td>\n",
              "    </tr>\n",
              "    <tr>\n",
              "      <th>4</th>\n",
              "      <td>536365.0</td>\n",
              "      <td>84029E</td>\n",
              "      <td>RED WOOLLY HOTTIE WHITE HEART.</td>\n",
              "      <td>6</td>\n",
              "      <td>3.39</td>\n",
              "      <td>17850.0</td>\n",
              "      <td>United Kingdom</td>\n",
              "      <td>12.0</td>\n",
              "    </tr>\n",
              "  </tbody>\n",
              "</table>\n",
              "</div>\n",
              "    <div class=\"colab-df-buttons\">\n",
              "\n",
              "  <div class=\"colab-df-container\">\n",
              "    <button class=\"colab-df-convert\" onclick=\"convertToInteractive('df-d8bd5fd6-032b-49c9-8581-58402dd5f69c')\"\n",
              "            title=\"Convert this dataframe to an interactive table.\"\n",
              "            style=\"display:none;\">\n",
              "\n",
              "  <svg xmlns=\"http://www.w3.org/2000/svg\" height=\"24px\" viewBox=\"0 -960 960 960\">\n",
              "    <path d=\"M120-120v-720h720v720H120Zm60-500h600v-160H180v160Zm220 220h160v-160H400v160Zm0 220h160v-160H400v160ZM180-400h160v-160H180v160Zm440 0h160v-160H620v160ZM180-180h160v-160H180v160Zm440 0h160v-160H620v160Z\"/>\n",
              "  </svg>\n",
              "    </button>\n",
              "\n",
              "  <style>\n",
              "    .colab-df-container {\n",
              "      display:flex;\n",
              "      gap: 12px;\n",
              "    }\n",
              "\n",
              "    .colab-df-convert {\n",
              "      background-color: #E8F0FE;\n",
              "      border: none;\n",
              "      border-radius: 50%;\n",
              "      cursor: pointer;\n",
              "      display: none;\n",
              "      fill: #1967D2;\n",
              "      height: 32px;\n",
              "      padding: 0 0 0 0;\n",
              "      width: 32px;\n",
              "    }\n",
              "\n",
              "    .colab-df-convert:hover {\n",
              "      background-color: #E2EBFA;\n",
              "      box-shadow: 0px 1px 2px rgba(60, 64, 67, 0.3), 0px 1px 3px 1px rgba(60, 64, 67, 0.15);\n",
              "      fill: #174EA6;\n",
              "    }\n",
              "\n",
              "    .colab-df-buttons div {\n",
              "      margin-bottom: 4px;\n",
              "    }\n",
              "\n",
              "    [theme=dark] .colab-df-convert {\n",
              "      background-color: #3B4455;\n",
              "      fill: #D2E3FC;\n",
              "    }\n",
              "\n",
              "    [theme=dark] .colab-df-convert:hover {\n",
              "      background-color: #434B5C;\n",
              "      box-shadow: 0px 1px 3px 1px rgba(0, 0, 0, 0.15);\n",
              "      filter: drop-shadow(0px 1px 2px rgba(0, 0, 0, 0.3));\n",
              "      fill: #FFFFFF;\n",
              "    }\n",
              "  </style>\n",
              "\n",
              "    <script>\n",
              "      const buttonEl =\n",
              "        document.querySelector('#df-d8bd5fd6-032b-49c9-8581-58402dd5f69c button.colab-df-convert');\n",
              "      buttonEl.style.display =\n",
              "        google.colab.kernel.accessAllowed ? 'block' : 'none';\n",
              "\n",
              "      async function convertToInteractive(key) {\n",
              "        const element = document.querySelector('#df-d8bd5fd6-032b-49c9-8581-58402dd5f69c');\n",
              "        const dataTable =\n",
              "          await google.colab.kernel.invokeFunction('convertToInteractive',\n",
              "                                                    [key], {});\n",
              "        if (!dataTable) return;\n",
              "\n",
              "        const docLinkHtml = 'Like what you see? Visit the ' +\n",
              "          '<a target=\"_blank\" href=https://colab.research.google.com/notebooks/data_table.ipynb>data table notebook</a>'\n",
              "          + ' to learn more about interactive tables.';\n",
              "        element.innerHTML = '';\n",
              "        dataTable['output_type'] = 'display_data';\n",
              "        await google.colab.output.renderOutput(dataTable, element);\n",
              "        const docLink = document.createElement('div');\n",
              "        docLink.innerHTML = docLinkHtml;\n",
              "        element.appendChild(docLink);\n",
              "      }\n",
              "    </script>\n",
              "  </div>\n",
              "\n",
              "\n",
              "<div id=\"df-eea6e4a7-d420-4771-aaa3-63377fa3b385\">\n",
              "  <button class=\"colab-df-quickchart\" onclick=\"quickchart('df-eea6e4a7-d420-4771-aaa3-63377fa3b385')\"\n",
              "            title=\"Suggest charts.\"\n",
              "            style=\"display:none;\">\n",
              "\n",
              "<svg xmlns=\"http://www.w3.org/2000/svg\" height=\"24px\"viewBox=\"0 0 24 24\"\n",
              "     width=\"24px\">\n",
              "    <g>\n",
              "        <path d=\"M19 3H5c-1.1 0-2 .9-2 2v14c0 1.1.9 2 2 2h14c1.1 0 2-.9 2-2V5c0-1.1-.9-2-2-2zM9 17H7v-7h2v7zm4 0h-2V7h2v10zm4 0h-2v-4h2v4z\"/>\n",
              "    </g>\n",
              "</svg>\n",
              "  </button>\n",
              "\n",
              "<style>\n",
              "  .colab-df-quickchart {\n",
              "      --bg-color: #E8F0FE;\n",
              "      --fill-color: #1967D2;\n",
              "      --hover-bg-color: #E2EBFA;\n",
              "      --hover-fill-color: #174EA6;\n",
              "      --disabled-fill-color: #AAA;\n",
              "      --disabled-bg-color: #DDD;\n",
              "  }\n",
              "\n",
              "  [theme=dark] .colab-df-quickchart {\n",
              "      --bg-color: #3B4455;\n",
              "      --fill-color: #D2E3FC;\n",
              "      --hover-bg-color: #434B5C;\n",
              "      --hover-fill-color: #FFFFFF;\n",
              "      --disabled-bg-color: #3B4455;\n",
              "      --disabled-fill-color: #666;\n",
              "  }\n",
              "\n",
              "  .colab-df-quickchart {\n",
              "    background-color: var(--bg-color);\n",
              "    border: none;\n",
              "    border-radius: 50%;\n",
              "    cursor: pointer;\n",
              "    display: none;\n",
              "    fill: var(--fill-color);\n",
              "    height: 32px;\n",
              "    padding: 0;\n",
              "    width: 32px;\n",
              "  }\n",
              "\n",
              "  .colab-df-quickchart:hover {\n",
              "    background-color: var(--hover-bg-color);\n",
              "    box-shadow: 0 1px 2px rgba(60, 64, 67, 0.3), 0 1px 3px 1px rgba(60, 64, 67, 0.15);\n",
              "    fill: var(--button-hover-fill-color);\n",
              "  }\n",
              "\n",
              "  .colab-df-quickchart-complete:disabled,\n",
              "  .colab-df-quickchart-complete:disabled:hover {\n",
              "    background-color: var(--disabled-bg-color);\n",
              "    fill: var(--disabled-fill-color);\n",
              "    box-shadow: none;\n",
              "  }\n",
              "\n",
              "  .colab-df-spinner {\n",
              "    border: 2px solid var(--fill-color);\n",
              "    border-color: transparent;\n",
              "    border-bottom-color: var(--fill-color);\n",
              "    animation:\n",
              "      spin 1s steps(1) infinite;\n",
              "  }\n",
              "\n",
              "  @keyframes spin {\n",
              "    0% {\n",
              "      border-color: transparent;\n",
              "      border-bottom-color: var(--fill-color);\n",
              "      border-left-color: var(--fill-color);\n",
              "    }\n",
              "    20% {\n",
              "      border-color: transparent;\n",
              "      border-left-color: var(--fill-color);\n",
              "      border-top-color: var(--fill-color);\n",
              "    }\n",
              "    30% {\n",
              "      border-color: transparent;\n",
              "      border-left-color: var(--fill-color);\n",
              "      border-top-color: var(--fill-color);\n",
              "      border-right-color: var(--fill-color);\n",
              "    }\n",
              "    40% {\n",
              "      border-color: transparent;\n",
              "      border-right-color: var(--fill-color);\n",
              "      border-top-color: var(--fill-color);\n",
              "    }\n",
              "    60% {\n",
              "      border-color: transparent;\n",
              "      border-right-color: var(--fill-color);\n",
              "    }\n",
              "    80% {\n",
              "      border-color: transparent;\n",
              "      border-right-color: var(--fill-color);\n",
              "      border-bottom-color: var(--fill-color);\n",
              "    }\n",
              "    90% {\n",
              "      border-color: transparent;\n",
              "      border-bottom-color: var(--fill-color);\n",
              "    }\n",
              "  }\n",
              "</style>\n",
              "\n",
              "  <script>\n",
              "    async function quickchart(key) {\n",
              "      const quickchartButtonEl =\n",
              "        document.querySelector('#' + key + ' button');\n",
              "      quickchartButtonEl.disabled = true;  // To prevent multiple clicks.\n",
              "      quickchartButtonEl.classList.add('colab-df-spinner');\n",
              "      try {\n",
              "        const charts = await google.colab.kernel.invokeFunction(\n",
              "            'suggestCharts', [key], {});\n",
              "      } catch (error) {\n",
              "        console.error('Error during call to suggestCharts:', error);\n",
              "      }\n",
              "      quickchartButtonEl.classList.remove('colab-df-spinner');\n",
              "      quickchartButtonEl.classList.add('colab-df-quickchart-complete');\n",
              "    }\n",
              "    (() => {\n",
              "      let quickchartButtonEl =\n",
              "        document.querySelector('#df-eea6e4a7-d420-4771-aaa3-63377fa3b385 button');\n",
              "      quickchartButtonEl.style.display =\n",
              "        google.colab.kernel.accessAllowed ? 'block' : 'none';\n",
              "    })();\n",
              "  </script>\n",
              "</div>\n",
              "    </div>\n",
              "  </div>\n"
            ]
          },
          "metadata": {},
          "execution_count": 32
        }
      ]
    },
    {
      "cell_type": "markdown",
      "source": [
        "## **Content Based Recommender System**"
      ],
      "metadata": {
        "id": "Da_QG4Ppjm3P"
      }
    },
    {
      "cell_type": "code",
      "source": [
        "# determine what features we want to base recommendations off of\n",
        "features = ['InvoiceNo','Description', 'StockCode', 'UnitPrice', 'CustomerID', 'Country','Quantity','month']\n"
      ],
      "metadata": {
        "id": "Fy3HTxc0T4cD"
      },
      "execution_count": null,
      "outputs": []
    },
    {
      "cell_type": "code",
      "source": [
        "def combined_features(row):\n",
        "   return str(row['InvoiceNo'])+ \" \"+str(row['StockCode'])+\" \" +str(row['UnitPrice'])+\" \"+str(row['CustomerID'])+\"  \"+str(row['Country'])+\"  \"+str(row['Description'])+\"  \"+str(row['Quantity'])+\"  \"+str(row['month'])"
      ],
      "metadata": {
        "id": "Yuuzkusbjq-A"
      },
      "execution_count": null,
      "outputs": []
    },
    {
      "cell_type": "code",
      "source": [
        "df[\"combined_features\"] = df.apply(combined_features, axis =1) #create new column combined features"
      ],
      "metadata": {
        "id": "T8BX6USPUnk5"
      },
      "execution_count": null,
      "outputs": []
    },
    {
      "cell_type": "code",
      "source": [
        "df['combined_features'].head(10)"
      ],
      "metadata": {
        "colab": {
          "base_uri": "https://localhost:8080/"
        },
        "id": "RgqDulR_2Pru",
        "outputId": "a218e2f7-58f4-498b-fc1e-ed1e1019bab7"
      },
      "execution_count": null,
      "outputs": [
        {
          "output_type": "execute_result",
          "data": {
            "text/plain": [
              "0    536365.0 85123A 2.55 17850.0  United Kingdom  ...\n",
              "1    536365.0 71053 3.39 17850.0  United Kingdom  W...\n",
              "2    536365.0 84406B 2.75 17850.0  United Kingdom  ...\n",
              "3    536365.0 84029G 3.39 17850.0  United Kingdom  ...\n",
              "4    536365.0 84029E 3.39 17850.0  United Kingdom  ...\n",
              "5    536365.0 22752 7.65 17850.0  United Kingdom  S...\n",
              "6    536365.0 21730 4.25 17850.0  United Kingdom  G...\n",
              "7    536366.0 22633 1.85 17850.0  United Kingdom  H...\n",
              "8    536366.0 22632 1.85 17850.0  United Kingdom  H...\n",
              "9    536367.0 84879 1.69 13047.0  United Kingdom  A...\n",
              "Name: combined_features, dtype: object"
            ]
          },
          "metadata": {},
          "execution_count": 36
        }
      ]
    },
    {
      "cell_type": "code",
      "source": [
        "# change text in combined features to vector form\n",
        "from sklearn.feature_extraction.text import CountVectorizer\n",
        "\n",
        "vectorizer = CountVectorizer()\n",
        "count_matrix = vectorizer.fit_transform(df['combined_features'])"
      ],
      "metadata": {
        "id": "23ahYlK_XHoG"
      },
      "execution_count": null,
      "outputs": []
    },
    {
      "cell_type": "code",
      "source": [
        "from sklearn.metrics.pairwise import cosine_similarity\n",
        "\n",
        "#movie titles to index in the dataframe for quick look-up\n",
        "item_index = pd.Series(df.index, index=df['Description']).to_dict()"
      ],
      "metadata": {
        "id": "Ukjyq3y_JZfb"
      },
      "execution_count": null,
      "outputs": []
    },
    {
      "cell_type": "code",
      "source": [
        "def get_index_from_description(description):\n",
        "    return item_index[description]\n",
        "\n",
        "def get_description_from_index(index):\n",
        "    return df['Description'].iloc[index]"
      ],
      "metadata": {
        "id": "X5vvQYJLJgf1"
      },
      "execution_count": null,
      "outputs": []
    },
    {
      "cell_type": "code",
      "source": [
        "def content_based_recommender(item_description, num_of_rec=10):\n",
        "    item_idx = get_index_from_description(item_description)\n",
        "\n",
        "    # item description to vector\n",
        "    description_vec = vectorizer.transform([df['combined_features'].iloc[item_idx]])\n",
        "\n",
        "    # cosine similarity of picked item with other items\n",
        "    cosine_sim = cosine_similarity(description_vec, count_matrix)\n",
        "\n",
        "    # getting recommendations\n",
        "    sim_scores = list(enumerate(cosine_sim[0]))\n",
        "    sim_scores = sorted(sim_scores, key=lambda x: x[1], reverse=True)\n",
        "\n",
        "    recommended_indices = []\n",
        "    recommended_descriptions = set()\n",
        "    for idx, score in sim_scores:\n",
        "        if df['Description'].iloc[idx] not in recommended_descriptions:\n",
        "            recommended_indices.append(idx)\n",
        "            recommended_descriptions.add(df['Description'].iloc[idx])\n",
        "            if len(recommended_indices) == num_of_rec + 1:\n",
        "                break\n",
        "\n",
        "    recommendations = [get_description_from_index(idx) for idx in recommended_indices[1:]]\n",
        "    return recommendations"
      ],
      "metadata": {
        "id": "WBcA76_IQRoY"
      },
      "execution_count": null,
      "outputs": []
    },
    {
      "cell_type": "code",
      "source": [
        "# final output\n",
        "recommended_items = content_based_recommender('WHITE METAL LANTERN', 5)\n",
        "\n",
        "print(f\" 5 similar items for you based on your interest in WHITE METAL LANTERN:\")\n",
        "print(\"**********************************************************\")\n",
        "for idx, item in enumerate(recommended_items):\n",
        "    print(f\"{idx+1}. {item}\")\n",
        "print(\"************************************************************\")"
      ],
      "metadata": {
        "colab": {
          "base_uri": "https://localhost:8080/"
        },
        "id": "-GcA6_mIXLUb",
        "outputId": "a1c423b8-43ba-4205-ad4b-1efdc97ea1db"
      },
      "execution_count": null,
      "outputs": [
        {
          "output_type": "stream",
          "name": "stdout",
          "text": [
            " 5 similar items for you based on your interest in WHITE METAL LANTERN:\n",
            "**********************************************************\n",
            "1. WHITE MOROCCAN METAL LANTERN\n",
            "2. BISCUIT TIN VINTAGE GREEN\n",
            "3. BISCUIT TIN VINTAGE RED\n",
            "4. PAINTED METAL PEARS ASSORTED\n",
            "5. REGENCY CAKESTAND 3 TIER\n",
            "************************************************************\n"
          ]
        }
      ]
    },
    {
      "cell_type": "markdown",
      "source": [
        "## **Collaborative Filtering Based Recommender System**"
      ],
      "metadata": {
        "id": "kewZlMJajrSL"
      }
    },
    {
      "cell_type": "markdown",
      "source": [
        "User-item matrix breakdown:\n",
        "*   Rows = unique CustomerIDs (users).\n",
        "*   Columns = unique Descriptions (items).\n",
        "*   Values = Quantity of each item purchased by a user"
      ],
      "metadata": {
        "id": "M9astzS6PNp7"
      }
    },
    {
      "cell_type": "code",
      "source": [
        "#user-item interaction matrix\n",
        "user_item_matrix = df.pivot_table(index='CustomerID',\n",
        "                                  columns='Description',\n",
        "                                  values='Quantity',\n",
        "                                  aggfunc='sum',\n",
        "                                  fill_value=0)\n",
        "\n",
        "#  basic info + few rows of matrix\n",
        "(user_item_matrix.info(), user_item_matrix.head())"
      ],
      "metadata": {
        "colab": {
          "base_uri": "https://localhost:8080/"
        },
        "id": "3ZcitTexM_OM",
        "outputId": "eabfef85-b898-43dc-9024-35d22d379790"
      },
      "execution_count": null,
      "outputs": [
        {
          "output_type": "stream",
          "name": "stdout",
          "text": [
            "<class 'pandas.core.frame.DataFrame'>\n",
            "Float64Index: 4339 entries, 12346.0 to 18287.0\n",
            "Columns: 3877 entries,  4 PURPLE FLOCK DINNER CANDLES to ZINC WIRE SWEETHEART LETTER TRAY\n",
            "dtypes: int64(3877)\n",
            "memory usage: 128.4 MB\n"
          ]
        },
        {
          "output_type": "execute_result",
          "data": {
            "text/plain": [
              "(None,\n",
              " Description   4 PURPLE FLOCK DINNER CANDLES   50'S CHRISTMAS GIFT BAG LARGE  \\\n",
              " CustomerID                                                                    \n",
              " 12346.0                                   0                               0   \n",
              " 12347.0                                   0                               0   \n",
              " 12348.0                                   0                               0   \n",
              " 12349.0                                   0                               0   \n",
              " 12350.0                                   0                               0   \n",
              " \n",
              " Description   DOLLY GIRL BEAKER   I LOVE LONDON MINI BACKPACK  \\\n",
              " CustomerID                                                      \n",
              " 12346.0                       0                             0   \n",
              " 12347.0                       0                             0   \n",
              " 12348.0                       0                             0   \n",
              " 12349.0                       0                             0   \n",
              " 12350.0                       0                             0   \n",
              " \n",
              " Description   I LOVE LONDON MINI RUCKSACK   NINE DRAWER OFFICE TIDY  \\\n",
              " CustomerID                                                            \n",
              " 12346.0                                 0                         0   \n",
              " 12347.0                                 0                         0   \n",
              " 12348.0                                 0                         0   \n",
              " 12349.0                                 0                         0   \n",
              " 12350.0                                 0                         0   \n",
              " \n",
              " Description   OVAL WALL MIRROR DIAMANTE    RED SPOT GIFT BAG LARGE  \\\n",
              " CustomerID                                                           \n",
              " 12346.0                                0                         0   \n",
              " 12347.0                                0                         0   \n",
              " 12348.0                                0                         0   \n",
              " 12349.0                                0                         0   \n",
              " 12350.0                                0                         0   \n",
              " \n",
              " Description   SET 2 TEA TOWELS I LOVE LONDON    SPACEBOY BABY GIFT SET  ...  \\\n",
              " CustomerID                                                              ...   \n",
              " 12346.0                                     0                        0  ...   \n",
              " 12347.0                                     0                        0  ...   \n",
              " 12348.0                                     0                        0  ...   \n",
              " 12349.0                                     0                        0  ...   \n",
              " 12350.0                                     0                        0  ...   \n",
              " \n",
              " Description  ZINC STAR T-LIGHT HOLDER   ZINC SWEETHEART SOAP DISH  \\\n",
              " CustomerID                                                          \n",
              " 12346.0                              0                          0   \n",
              " 12347.0                              0                          0   \n",
              " 12348.0                              0                          0   \n",
              " 12349.0                              0                          0   \n",
              " 12350.0                              0                          0   \n",
              " \n",
              " Description  ZINC SWEETHEART WIRE LETTER RACK  ZINC T-LIGHT HOLDER STAR LARGE  \\\n",
              " CustomerID                                                                      \n",
              " 12346.0                                     0                               0   \n",
              " 12347.0                                     0                               0   \n",
              " 12348.0                                     0                               0   \n",
              " 12349.0                                     0                               0   \n",
              " 12350.0                                     0                               0   \n",
              " \n",
              " Description  ZINC T-LIGHT HOLDER STARS LARGE  ZINC T-LIGHT HOLDER STARS SMALL  \\\n",
              " CustomerID                                                                      \n",
              " 12346.0                                    0                                0   \n",
              " 12347.0                                    0                                0   \n",
              " 12348.0                                    0                                0   \n",
              " 12349.0                                    0                                0   \n",
              " 12350.0                                    0                                0   \n",
              " \n",
              " Description  ZINC TOP  2 DOOR WOODEN SHELF   ZINC WILLIE WINKIE  CANDLE STICK  \\\n",
              " CustomerID                                                                      \n",
              " 12346.0                                   0                                 0   \n",
              " 12347.0                                   0                                 0   \n",
              " 12348.0                                   0                                 0   \n",
              " 12349.0                                   0                                 0   \n",
              " 12350.0                                   0                                 0   \n",
              " \n",
              " Description  ZINC WIRE KITCHEN ORGANISER  ZINC WIRE SWEETHEART LETTER TRAY  \n",
              " CustomerID                                                                  \n",
              " 12346.0                                0                                 0  \n",
              " 12347.0                                0                                 0  \n",
              " 12348.0                                0                                 0  \n",
              " 12349.0                                0                                 0  \n",
              " 12350.0                                0                                 0  \n",
              " \n",
              " [5 rows x 3877 columns])"
            ]
          },
          "metadata": {},
          "execution_count": 42
        }
      ]
    },
    {
      "cell_type": "markdown",
      "source": [
        "* Note: Matrix is sparse, meaning there are many zeros. This is because most customers are only buying one or a few items."
      ],
      "metadata": {
        "id": "-fDRVvZfPxlb"
      }
    },
    {
      "cell_type": "markdown",
      "source": [
        "### Exploring KNN and SVD"
      ],
      "metadata": {
        "id": "X_LD6pO-QEiC"
      }
    },
    {
      "cell_type": "markdown",
      "source": [
        "**K Nearest Neighbor**"
      ],
      "metadata": {
        "id": "kzuM1EOeQIPZ"
      }
    },
    {
      "cell_type": "code",
      "source": [
        "from sklearn.neighbors import NearestNeighbors\n",
        "import numpy as np"
      ],
      "metadata": {
        "id": "imWXTIFmRS1z"
      },
      "execution_count": null,
      "outputs": []
    },
    {
      "cell_type": "code",
      "source": [
        "# Initialize the KNN model\n",
        "knn_model = NearestNeighbors(n_neighbors=10, metric='cosine', algorithm='brute')\n",
        "\n",
        "# fit the model to the user-item matrix\n",
        "knn_model.fit(user_item_matrix.values)\n"
      ],
      "metadata": {
        "colab": {
          "base_uri": "https://localhost:8080/",
          "height": 74
        },
        "id": "RUFMQow8RNIR",
        "outputId": "371147ad-7963-4c78-bec5-33e97179700e"
      },
      "execution_count": null,
      "outputs": [
        {
          "output_type": "execute_result",
          "data": {
            "text/plain": [
              "NearestNeighbors(algorithm='brute', metric='cosine', n_neighbors=10)"
            ],
            "text/html": [
              "<style>#sk-container-id-1 {color: black;background-color: white;}#sk-container-id-1 pre{padding: 0;}#sk-container-id-1 div.sk-toggleable {background-color: white;}#sk-container-id-1 label.sk-toggleable__label {cursor: pointer;display: block;width: 100%;margin-bottom: 0;padding: 0.3em;box-sizing: border-box;text-align: center;}#sk-container-id-1 label.sk-toggleable__label-arrow:before {content: \"▸\";float: left;margin-right: 0.25em;color: #696969;}#sk-container-id-1 label.sk-toggleable__label-arrow:hover:before {color: black;}#sk-container-id-1 div.sk-estimator:hover label.sk-toggleable__label-arrow:before {color: black;}#sk-container-id-1 div.sk-toggleable__content {max-height: 0;max-width: 0;overflow: hidden;text-align: left;background-color: #f0f8ff;}#sk-container-id-1 div.sk-toggleable__content pre {margin: 0.2em;color: black;border-radius: 0.25em;background-color: #f0f8ff;}#sk-container-id-1 input.sk-toggleable__control:checked~div.sk-toggleable__content {max-height: 200px;max-width: 100%;overflow: auto;}#sk-container-id-1 input.sk-toggleable__control:checked~label.sk-toggleable__label-arrow:before {content: \"▾\";}#sk-container-id-1 div.sk-estimator input.sk-toggleable__control:checked~label.sk-toggleable__label {background-color: #d4ebff;}#sk-container-id-1 div.sk-label input.sk-toggleable__control:checked~label.sk-toggleable__label {background-color: #d4ebff;}#sk-container-id-1 input.sk-hidden--visually {border: 0;clip: rect(1px 1px 1px 1px);clip: rect(1px, 1px, 1px, 1px);height: 1px;margin: -1px;overflow: hidden;padding: 0;position: absolute;width: 1px;}#sk-container-id-1 div.sk-estimator {font-family: monospace;background-color: #f0f8ff;border: 1px dotted black;border-radius: 0.25em;box-sizing: border-box;margin-bottom: 0.5em;}#sk-container-id-1 div.sk-estimator:hover {background-color: #d4ebff;}#sk-container-id-1 div.sk-parallel-item::after {content: \"\";width: 100%;border-bottom: 1px solid gray;flex-grow: 1;}#sk-container-id-1 div.sk-label:hover label.sk-toggleable__label {background-color: #d4ebff;}#sk-container-id-1 div.sk-serial::before {content: \"\";position: absolute;border-left: 1px solid gray;box-sizing: border-box;top: 0;bottom: 0;left: 50%;z-index: 0;}#sk-container-id-1 div.sk-serial {display: flex;flex-direction: column;align-items: center;background-color: white;padding-right: 0.2em;padding-left: 0.2em;position: relative;}#sk-container-id-1 div.sk-item {position: relative;z-index: 1;}#sk-container-id-1 div.sk-parallel {display: flex;align-items: stretch;justify-content: center;background-color: white;position: relative;}#sk-container-id-1 div.sk-item::before, #sk-container-id-1 div.sk-parallel-item::before {content: \"\";position: absolute;border-left: 1px solid gray;box-sizing: border-box;top: 0;bottom: 0;left: 50%;z-index: -1;}#sk-container-id-1 div.sk-parallel-item {display: flex;flex-direction: column;z-index: 1;position: relative;background-color: white;}#sk-container-id-1 div.sk-parallel-item:first-child::after {align-self: flex-end;width: 50%;}#sk-container-id-1 div.sk-parallel-item:last-child::after {align-self: flex-start;width: 50%;}#sk-container-id-1 div.sk-parallel-item:only-child::after {width: 0;}#sk-container-id-1 div.sk-dashed-wrapped {border: 1px dashed gray;margin: 0 0.4em 0.5em 0.4em;box-sizing: border-box;padding-bottom: 0.4em;background-color: white;}#sk-container-id-1 div.sk-label label {font-family: monospace;font-weight: bold;display: inline-block;line-height: 1.2em;}#sk-container-id-1 div.sk-label-container {text-align: center;}#sk-container-id-1 div.sk-container {/* jupyter's `normalize.less` sets `[hidden] { display: none; }` but bootstrap.min.css set `[hidden] { display: none !important; }` so we also need the `!important` here to be able to override the default hidden behavior on the sphinx rendered scikit-learn.org. See: https://github.com/scikit-learn/scikit-learn/issues/21755 */display: inline-block !important;position: relative;}#sk-container-id-1 div.sk-text-repr-fallback {display: none;}</style><div id=\"sk-container-id-1\" class=\"sk-top-container\"><div class=\"sk-text-repr-fallback\"><pre>NearestNeighbors(algorithm=&#x27;brute&#x27;, metric=&#x27;cosine&#x27;, n_neighbors=10)</pre><b>In a Jupyter environment, please rerun this cell to show the HTML representation or trust the notebook. <br />On GitHub, the HTML representation is unable to render, please try loading this page with nbviewer.org.</b></div><div class=\"sk-container\" hidden><div class=\"sk-item\"><div class=\"sk-estimator sk-toggleable\"><input class=\"sk-toggleable__control sk-hidden--visually\" id=\"sk-estimator-id-1\" type=\"checkbox\" checked><label for=\"sk-estimator-id-1\" class=\"sk-toggleable__label sk-toggleable__label-arrow\">NearestNeighbors</label><div class=\"sk-toggleable__content\"><pre>NearestNeighbors(algorithm=&#x27;brute&#x27;, metric=&#x27;cosine&#x27;, n_neighbors=10)</pre></div></div></div></div></div>"
            ]
          },
          "metadata": {},
          "execution_count": 44
        }
      ]
    },
    {
      "cell_type": "code",
      "source": [
        "# Function to get recommendations\n",
        "def knn_collab_rec(customer_id, user_item_matrix, knn_model, k=5):\n",
        "    # index of the user\n",
        "    user_index = np.where(user_item_matrix.index == customer_id)[0][0]\n",
        "\n",
        "    #  k-nearest neighbors\n",
        "    distances, indices = knn_model.kneighbors(user_item_matrix.iloc[user_index, :].values.reshape(1, -1),\n",
        "                                              n_neighbors=k+1)\n",
        "\n",
        "    # customer IDs of neighbors\n",
        "    neighbor_ids = user_item_matrix.iloc[indices.flatten(), :].index\n",
        "\n",
        "    # remove user's own ID from neighbors\n",
        "    neighbor_ids = neighbor_ids[neighbor_ids != customer_id]\n",
        "\n",
        "    # id items that the neighbors have interacted with\n",
        "    neighbor_items = user_item_matrix.loc[neighbor_ids, :]\n",
        "\n",
        "    # sum the quantities purchased by neighbors and recommend items with highest total quantity\n",
        "    recommended_items = neighbor_items.sum(axis=0).sort_values(ascending=False)\n",
        "\n",
        "    # exclude items that the user has already interacted with!!\n",
        "    user_interacted_items = user_item_matrix.loc[customer_id, :][user_item_matrix.loc[customer_id, :] > 0].index\n",
        "    recommended_items = recommended_items[~recommended_items.index.isin(user_interacted_items)]\n",
        "\n",
        "    # recommend top k items\n",
        "    recommended_items = recommended_items.head(k).index.tolist()\n",
        "\n",
        "    return recommended_items\n"
      ],
      "metadata": {
        "id": "5BX3kG8hQPC7"
      },
      "execution_count": null,
      "outputs": []
    },
    {
      "cell_type": "code",
      "source": [
        "# test function w/ a user ID\n",
        "knn_collab_rec(12347, user_item_matrix, knn_model, k=5)"
      ],
      "metadata": {
        "colab": {
          "base_uri": "https://localhost:8080/"
        },
        "id": "xBflsttjQzVz",
        "outputId": "ce38c4f1-100a-4050-c5a6-08245b65ef7b"
      },
      "execution_count": null,
      "outputs": [
        {
          "output_type": "execute_result",
          "data": {
            "text/plain": [
              "['DOUGHNUT LIP GLOSS ',\n",
              " 'GROW A FLYTRAP OR SUNFLOWER IN TIN',\n",
              " '10 COLOUR SPACEBOY PEN',\n",
              " 'PACK OF 12 SPACEBOY TISSUES',\n",
              " 'SET/10 PINK POLKADOT PARTY CANDLES']"
            ]
          },
          "metadata": {},
          "execution_count": 46
        }
      ]
    },
    {
      "cell_type": "markdown",
      "source": [
        "**Singular Value Decomposition**"
      ],
      "metadata": {
        "id": "ChUfRAZrQK4q"
      }
    },
    {
      "cell_type": "code",
      "source": [
        "# imports\n",
        "from scipy.sparse.linalg import svds"
      ],
      "metadata": {
        "id": "5HcKEuLPSObj"
      },
      "execution_count": null,
      "outputs": []
    },
    {
      "cell_type": "code",
      "source": [
        "# make data type float\n",
        "user_item_matrix_float = user_item_matrix.astype('float')"
      ],
      "metadata": {
        "id": "U9rFpqd6kRkb"
      },
      "execution_count": null,
      "outputs": []
    },
    {
      "cell_type": "code",
      "source": [
        "# Singular Value Decomposition\n",
        "U, sigma, Vt = svds(user_item_matrix_float.values, k=50)  # k is the number of latent factors"
      ],
      "metadata": {
        "id": "-NxzANcMSX0o"
      },
      "execution_count": null,
      "outputs": []
    },
    {
      "cell_type": "code",
      "source": [
        "# sigma to a diagonal matrix\n",
        "sigma_diag_matrix = np.diag(sigma)"
      ],
      "metadata": {
        "id": "hvE4E3FiSb1v"
      },
      "execution_count": null,
      "outputs": []
    },
    {
      "cell_type": "code",
      "source": [
        "# predicted ratings\n",
        "predicted_ratings = np.dot(np.dot(U, sigma_diag_matrix), Vt)\n",
        "\n",
        "#  shape of the predicted ratings (to compare to og make sure have all features)#hooray\n",
        "predicted_ratings.shape, user_item_matrix.shape"
      ],
      "metadata": {
        "colab": {
          "base_uri": "https://localhost:8080/"
        },
        "id": "euiBhxQbmJ4J",
        "outputId": "5281eb21-8537-479e-95de-76ebfc423b74"
      },
      "execution_count": null,
      "outputs": [
        {
          "output_type": "execute_result",
          "data": {
            "text/plain": [
              "((4339, 3877), (4339, 3877))"
            ]
          },
          "metadata": {},
          "execution_count": 51
        }
      ]
    },
    {
      "cell_type": "code",
      "source": [
        "def svd_collab_rec(user_id, num_recommendations=5):\n",
        "    # check if user_id is in the user-item matrix\n",
        "    if user_id not in user_item_matrix.index:\n",
        "        raise ValueError(\"User ID not found in the user-item matrix.\")\n",
        "\n",
        "    # getting the index of user_id in the user-item matrix\n",
        "    user_idx = user_item_matrix.index.get_loc(user_id)\n",
        "\n",
        "    # predicted ratings for the user\n",
        "    user_predicted_ratings = predicted_ratings[user_idx, :]\n",
        "\n",
        "    # Id items that the user has not interacted with\n",
        "    user_actual_ratings = user_item_matrix.loc[user_id, :]\n",
        "    unrated_items_mask = user_actual_ratings == 0\n",
        "    unrated_items_idx = np.where(unrated_items_mask)[0]\n",
        "\n",
        "    # predicted ratings for unrated items and id top-rated items\n",
        "    unrated_predicted_ratings = user_predicted_ratings[unrated_items_idx]\n",
        "    top_rated_items_idx = unrated_items_idx[np.argsort(-unrated_predicted_ratings)[:num_recommendations]]\n",
        "\n",
        "    # descriptions of top-rated items\n",
        "    recommended_items = user_item_matrix.columns[top_rated_items_idx].tolist()\n",
        "\n",
        "    return recommended_items\n"
      ],
      "metadata": {
        "id": "2QkhJvqVSeTV"
      },
      "execution_count": null,
      "outputs": []
    },
    {
      "cell_type": "code",
      "source": [
        "svd_collab_rec(12347, num_recommendations=5)"
      ],
      "metadata": {
        "colab": {
          "base_uri": "https://localhost:8080/"
        },
        "id": "A6tFsLpNn1mT",
        "outputId": "929a1510-84c4-4f2f-c90b-5eb61df723e7"
      },
      "execution_count": null,
      "outputs": [
        {
          "output_type": "execute_result",
          "data": {
            "text/plain": [
              "['PACK OF 72 RETROSPOT CAKE CASES',\n",
              " 'PACK OF 72 SKULL CAKE CASES',\n",
              " 'PACK OF 12 TRADITIONAL CRAYONS',\n",
              " 'Manual',\n",
              " 'DOLLY GIRL LUNCH BOX']"
            ]
          },
          "metadata": {},
          "execution_count": 53
        }
      ]
    },
    {
      "cell_type": "markdown",
      "source": [
        "**Comparing Collaborative Models**\n",
        "\n",
        "\n"
      ],
      "metadata": {
        "id": "7vST1u1BM-t8"
      }
    },
    {
      "cell_type": "code",
      "source": [
        "# items bought by customer 12356\n",
        "customer_purchases = df[df['CustomerID'] == 12356]\n",
        "\n",
        "# count frequency of each item purchased by Customer\n",
        "item_counts = customer_purchases['Description'].value_counts()\n",
        "\n",
        "# 5 most frequently purchased items for customer\n",
        "top_5_items = item_counts.head(5)\n",
        "\n",
        "# results\n",
        "print(\"Top 5 most popular items for selected Customer:\")\n",
        "for i, (item, count) in enumerate(top_5_items.items()):\n",
        "    print(f\"{i+1}. {item} (Purchased {count} times)\")"
      ],
      "metadata": {
        "colab": {
          "base_uri": "https://localhost:8080/"
        },
        "id": "LIdLDmbqRx5A",
        "outputId": "e71ee402-fbc2-4601-cbd6-b6d03ba1ae8c"
      },
      "execution_count": null,
      "outputs": [
        {
          "output_type": "stream",
          "name": "stdout",
          "text": [
            "Top 5 most popular items for selected Customer:\n",
            "1. RED RETROSPOT CAKE STAND (Purchased 3 times)\n",
            "2. REGENCY CAKESTAND 3 TIER (Purchased 3 times)\n",
            "3. SET OF 3 HEART COOKIE CUTTERS (Purchased 2 times)\n",
            "4. 60 TEATIME FAIRY CAKE CASES (Purchased 2 times)\n",
            "5. ASSORTED EASTER GIFT TAGS (Purchased 1 times)\n"
          ]
        }
      ]
    },
    {
      "cell_type": "code",
      "source": [
        "# test function w/ a user ID\n",
        "knn_collab_rec(12356, user_item_matrix, knn_model, k=5)"
      ],
      "metadata": {
        "id": "loBGtE8Xjvb5",
        "colab": {
          "base_uri": "https://localhost:8080/"
        },
        "outputId": "197f4a85-4db8-412d-f327-60ac867b56be"
      },
      "execution_count": null,
      "outputs": [
        {
          "output_type": "execute_result",
          "data": {
            "text/plain": [
              "['PACK OF 60 DINOSAUR CAKE CASES',\n",
              " 'PACK OF 60 PINK PAISLEY CAKE CASES',\n",
              " 'WORLD WAR 2 GLIDERS ASSTD DESIGNS',\n",
              " 'MULTICOLOUR SPRING FLOWER MUG',\n",
              " 'POLYESTER FILLER PAD 40x40cm']"
            ]
          },
          "metadata": {},
          "execution_count": 55
        }
      ]
    },
    {
      "cell_type": "code",
      "source": [
        "svd_collab_rec(12356, num_recommendations=5)"
      ],
      "metadata": {
        "colab": {
          "base_uri": "https://localhost:8080/"
        },
        "id": "G5Pcyu1lRqvm",
        "outputId": "fb2af48d-6e26-4858-daf4-fd5187470e19"
      },
      "execution_count": null,
      "outputs": [
        {
          "output_type": "execute_result",
          "data": {
            "text/plain": [
              "['PACK OF 60 DINOSAUR CAKE CASES',\n",
              " 'PACK OF 60 PINK PAISLEY CAKE CASES',\n",
              " \"YOU'RE CONFUSING ME METAL SIGN \",\n",
              " 'HOT BATHS METAL SIGN',\n",
              " 'CHRISTMAS PUDDING TRINKET POT ']"
            ]
          },
          "metadata": {},
          "execution_count": 56
        }
      ]
    },
    {
      "cell_type": "markdown",
      "source": [
        "**Conclusion:**\n",
        "As both provide similar results, we have chosen to use SVD because it requires less computational power and is better with sparse data, which applies to our data set."
      ],
      "metadata": {
        "id": "suWZnZH1puG5"
      }
    },
    {
      "cell_type": "markdown",
      "source": [
        "### **Final Collaborative Model made with SVD**"
      ],
      "metadata": {
        "id": "Capc4nuip9Hn"
      }
    },
    {
      "cell_type": "code",
      "source": [
        "def collaborative_recommender(user_id, num_recommendations=5):\n",
        "    # check if user_id is in the user-item matrix\n",
        "    if user_id not in user_item_matrix.index:\n",
        "        raise ValueError(\"User ID not found in the user-item matrix.\")\n",
        "\n",
        "    # getting the index of user_id in the user-item matrix\n",
        "    user_idx = user_item_matrix.index.get_loc(user_id)\n",
        "\n",
        "    # predicted ratings for the user\n",
        "    user_predicted_ratings = predicted_ratings[user_idx, :]\n",
        "\n",
        "    # Id items that user has NOT interacted with\n",
        "    user_actual_ratings = user_item_matrix.loc[user_id, :]\n",
        "    unrated_items_mask = user_actual_ratings == 0\n",
        "    unrated_items_idx = np.where(unrated_items_mask)[0]\n",
        "\n",
        "    # predicted ratings for the unrated items & id top-rated items\n",
        "    unrated_predicted_ratings = user_predicted_ratings[unrated_items_idx]\n",
        "    top_rated_items_idx = unrated_items_idx[np.argsort(-unrated_predicted_ratings)[:num_recommendations]]\n",
        "\n",
        "    # descriptions of the top-rated items\n",
        "    recommended_items = user_item_matrix.columns[top_rated_items_idx].tolist()\n",
        "\n",
        "    # returns recs\n",
        "    return recommended_items"
      ],
      "metadata": {
        "id": "7KcFaX08UVVK"
      },
      "execution_count": null,
      "outputs": []
    },
    {
      "cell_type": "code",
      "source": [
        "recommended_items = collaborative_recommender(12356, 5)\n",
        "\n",
        "print(f\"Recommended items for user 12356:\")\n",
        "print(\"**********************************************************\")\n",
        "for i, item_description in enumerate(recommended_items, 1):\n",
        "    print(f\"{i}. {item_description}\")\n",
        "print(\"************************************************************\")"
      ],
      "metadata": {
        "id": "XvrW0bFvqoAW",
        "colab": {
          "base_uri": "https://localhost:8080/"
        },
        "outputId": "8f8e51f3-a893-45f0-de30-e7e3e359c53e"
      },
      "execution_count": null,
      "outputs": [
        {
          "output_type": "stream",
          "name": "stdout",
          "text": [
            "Recommended items for user 12356:\n",
            "**********************************************************\n",
            "1. PACK OF 60 DINOSAUR CAKE CASES\n",
            "2. PACK OF 60 PINK PAISLEY CAKE CASES\n",
            "3. YOU'RE CONFUSING ME METAL SIGN \n",
            "4. HOT BATHS METAL SIGN\n",
            "5. CHRISTMAS PUDDING TRINKET POT \n",
            "************************************************************\n"
          ]
        }
      ]
    },
    {
      "cell_type": "markdown",
      "source": [
        "## **Hybrid Recommender System**"
      ],
      "metadata": {
        "id": "Bb7uwbVFXJld"
      }
    },
    {
      "cell_type": "code",
      "source": [
        "def hybrid_recommendation(user_id, item_description, num_recommendations=5):\n",
        "    # Get recommendations from content-based model\n",
        "    content_recommendations = content_based_recommender(item_description, num_recommendations*2)\n",
        "\n",
        "    # Get recommendations from collaborative model\n",
        "    collaborative_recommendations = collaborative_recommender(user_id, num_recommendations*2)\n",
        "\n",
        "    # combine recs and make sure no duplicates\n",
        "    combined_recommendations = list(set(content_recommendations + collaborative_recommendations))\n",
        "\n",
        "    # if too many recs - choose the top N\n",
        "    if len(combined_recommendations) > num_recommendations:\n",
        "        combined_recommendations = combined_recommendations[:num_recommendations]\n",
        "\n",
        "    # prints recs\n",
        "    print(f\"\\nRecommended items for user {user_id}, based on item {item_description}:\")\n",
        "    print(\"**********************************************************\")\n",
        "    for i, reco_item_description in enumerate(combined_recommendations, 1):\n",
        "        print(f\"{i}. {reco_item_description}\")\n",
        "    print(\"************************************************************\")"
      ],
      "metadata": {
        "id": "o34it4IXYpfF"
      },
      "execution_count": null,
      "outputs": []
    },
    {
      "cell_type": "code",
      "source": [
        "user_id = 12356  # Example userID\n",
        "item_description = 'WHITE METAL LANTERN'  # Example description\n",
        "num_recommendations = 5  # Number of recs\n",
        "\n",
        "#Hybrid recs\n",
        "hybrid_recommendation(user_id, item_description, num_recommendations)"
      ],
      "metadata": {
        "colab": {
          "base_uri": "https://localhost:8080/"
        },
        "id": "j_tOVW8IXSYA",
        "outputId": "9d9dab4f-2dff-4cf1-f0fb-4c02c714046c"
      },
      "execution_count": null,
      "outputs": [
        {
          "output_type": "stream",
          "name": "stdout",
          "text": [
            "\n",
            "Recommended items for user 12356, based on item WHITE METAL LANTERN:\n",
            "**********************************************************\n",
            "1. REGENCY CAKESTAND 3 TIER\n",
            "2. YOU'RE CONFUSING ME METAL SIGN \n",
            "3. WHITE MOROCCAN METAL LANTERN\n",
            "4. WHITE HANGING HEART T-LIGHT HOLDER\n",
            "5. HANGING METAL STAR LANTERN\n",
            "************************************************************\n"
          ]
        }
      ]
    },
    {
      "cell_type": "markdown",
      "source": [
        "### Nonfunctioning Hybrid Recommender System - requires too much RAM !!\n",
        "- An example of inefficiency"
      ],
      "metadata": {
        "id": "PQIGxtkmjvxd"
      }
    },
    {
      "cell_type": "code",
      "source": [
        "df.dtypes"
      ],
      "metadata": {
        "colab": {
          "base_uri": "https://localhost:8080/"
        },
        "id": "EdPr0TqomAtO",
        "outputId": "d2957582-41c0-4cb8-a199-80eea08ba6be"
      },
      "execution_count": null,
      "outputs": [
        {
          "output_type": "execute_result",
          "data": {
            "text/plain": [
              "InvoiceNo            float64\n",
              "StockCode             object\n",
              "Description           object\n",
              "Quantity               int64\n",
              "UnitPrice            float64\n",
              "CustomerID           float64\n",
              "Country               object\n",
              "month                float64\n",
              "combined_features     object\n",
              "dtype: object"
            ]
          },
          "metadata": {},
          "execution_count": 138
        }
      ]
    },
    {
      "cell_type": "code",
      "source": [
        "# choosing content to recommend, price must be converted to same dtype as description\n",
        "df['content']= df['UnitPrice'].astype(str)+ \" \"+df['Description']"
      ],
      "metadata": {
        "id": "H0w9xp__lXJM"
      },
      "execution_count": null,
      "outputs": []
    },
    {
      "cell_type": "code",
      "source": [
        "df['content']"
      ],
      "metadata": {
        "id": "wXZ428cfmnLq",
        "colab": {
          "base_uri": "https://localhost:8080/"
        },
        "outputId": "35e4b65c-db58-4a67-bef9-996d434f02a6"
      },
      "execution_count": null,
      "outputs": [
        {
          "output_type": "execute_result",
          "data": {
            "text/plain": [
              "0          2.55 WHITE HANGING HEART T-LIGHT HOLDER\n",
              "1                         3.39 WHITE METAL LANTERN\n",
              "2              2.75 CREAM CUPID HEARTS COAT HANGER\n",
              "3         3.39 KNITTED UNION FLAG HOT WATER BOTTLE\n",
              "4              3.39 RED WOOLLY HOTTIE WHITE HEART.\n",
              "                            ...                   \n",
              "397919            0.85 PACK OF 20 SPACEBOY NAPKINS\n",
              "397920            2.1 CHILDREN'S APRON DOLLY GIRL \n",
              "397921          4.15 CHILDRENS CUTLERY DOLLY GIRL \n",
              "397922        4.15 CHILDRENS CUTLERY CIRCUS PARADE\n",
              "397923          4.95 BAKING SET 9 PIECE RETROSPOT \n",
              "Name: content, Length: 397924, dtype: object"
            ]
          },
          "metadata": {},
          "execution_count": 140
        }
      ]
    },
    {
      "cell_type": "code",
      "source": [
        "# Vectorize the content\n",
        "from sklearn.feature_extraction.text import TfidfVectorizer\n",
        "tfidf = TfidfVectorizer(stop_words='english')\n",
        "content_matrix = tfidf.fit_transform(df['content'])"
      ],
      "metadata": {
        "id": "Mur00CgwmszT"
      },
      "execution_count": null,
      "outputs": []
    },
    {
      "cell_type": "code",
      "source": [
        "content_matrix.toarray()"
      ],
      "metadata": {
        "colab": {
          "base_uri": "https://localhost:8080/"
        },
        "id": "Bdowrbtmm1BW",
        "outputId": "de0cfc1b-7f29-4d44-b45b-69435d896e1b"
      },
      "execution_count": null,
      "outputs": [
        {
          "output_type": "execute_result",
          "data": {
            "text/plain": [
              "array([[0., 0., 0., ..., 0., 0., 0.],\n",
              "       [0., 0., 0., ..., 0., 0., 0.],\n",
              "       [0., 0., 0., ..., 0., 0., 0.],\n",
              "       ...,\n",
              "       [0., 0., 0., ..., 0., 0., 0.],\n",
              "       [0., 0., 0., ..., 0., 0., 0.],\n",
              "       [0., 0., 0., ..., 0., 0., 0.]])"
            ]
          },
          "metadata": {},
          "execution_count": 142
        }
      ]
    },
    {
      "cell_type": "code",
      "source": [
        "tfidf.get_feature_names_out().shape"
      ],
      "metadata": {
        "colab": {
          "base_uri": "https://localhost:8080/"
        },
        "id": "JQ-6pvDtBJzB",
        "outputId": "53cac1d7-b8f8-450e-a0b9-a24218d34abf"
      },
      "execution_count": null,
      "outputs": [
        {
          "output_type": "execute_result",
          "data": {
            "text/plain": [
              "(2115,)"
            ]
          },
          "metadata": {},
          "execution_count": 143
        }
      ]
    },
    {
      "cell_type": "code",
      "source": [
        "from sklearn.metrics.pairwise import cosine_similarity\n",
        "#cosine_sim = cosine_similarity(content_matrix)\n",
        "#cosine_sim"
      ],
      "metadata": {
        "id": "RzbmdrEOyv2Q"
      },
      "execution_count": null,
      "outputs": []
    },
    {
      "cell_type": "code",
      "source": [
        "def get_index_from_description(Description):\n",
        "    return df[df.Description == Description].index[0]"
      ],
      "metadata": {
        "id": "mq9dUBVZoMJk"
      },
      "execution_count": null,
      "outputs": []
    },
    {
      "cell_type": "code",
      "source": [
        "# description of item bought\n",
        "item_description='DOORMAT NEW ENGLAND'"
      ],
      "metadata": {
        "id": "z_mbCXT6qWEM"
      },
      "execution_count": null,
      "outputs": []
    },
    {
      "cell_type": "code",
      "source": [
        "def get_description_from_index(index):\n",
        "    return df[df.index == index][\"Description\"].values[0]"
      ],
      "metadata": {
        "id": "21fSNtY7CHT7"
      },
      "execution_count": null,
      "outputs": []
    },
    {
      "cell_type": "code",
      "source": [
        "get_description_from_index(1)"
      ],
      "metadata": {
        "id": "rW_6vRs_CYjW"
      },
      "execution_count": null,
      "outputs": []
    },
    {
      "cell_type": "code",
      "source": [
        "pairwise_cosine= list(enumerate(cosine_sim[movie_index]))"
      ],
      "metadata": {
        "id": "LEwkIcdzyzyC"
      },
      "execution_count": null,
      "outputs": []
    },
    {
      "cell_type": "code",
      "source": [
        "# Selecting first 25 movies with highest cosine value\n",
        "sorted_cosine = sorted(pairwise_cosine,\n",
        "                               key=lambda x:x[1],\n",
        "                               reverse=True)[0:26]"
      ],
      "metadata": {
        "id": "fXUSL9jABdF6"
      },
      "execution_count": null,
      "outputs": []
    },
    {
      "cell_type": "code",
      "source": [
        "# Collab part\n",
        "#user-item interaction matrix\n",
        "user_item_matrix = df.pivot_table(index='CustomerID', columns='Description', values='Quantity', aggfunc='sum', fill_value=0)"
      ],
      "metadata": {
        "id": "eY4z1tqMDwCn"
      },
      "execution_count": null,
      "outputs": []
    },
    {
      "cell_type": "code",
      "source": [
        "#  Calculate the mean rating of each user\n",
        "user_item_mean = user_item_matrix.mean(axis=1)"
      ],
      "metadata": {
        "id": "Ywv8GMTvE9Os"
      },
      "execution_count": null,
      "outputs": []
    },
    {
      "cell_type": "code",
      "source": [
        "# Normalize the user-item rating matrix by subtracting the mean rating of each user\n",
        "user_item_normalized = user_item_matrix.sub(user_item_mean, axis=0)"
      ],
      "metadata": {
        "id": "M6qUhZ9DFA3O"
      },
      "execution_count": null,
      "outputs": []
    },
    {
      "cell_type": "code",
      "source": [
        "# Convert the DataFrame to a NumPy array\n",
        "user_item_array = user_item_normalized.values"
      ],
      "metadata": {
        "id": "GcknvJavFbk5"
      },
      "execution_count": null,
      "outputs": []
    },
    {
      "cell_type": "code",
      "source": [
        "# Perform Singular Value Decomposition (SVD)\n",
        "U, sigma, Vt = svds(user_item_array, k=75)"
      ],
      "metadata": {
        "id": "sQf5G-joFhtE"
      },
      "execution_count": null,
      "outputs": []
    },
    {
      "cell_type": "code",
      "source": [
        "# Convert sigma to a diagonal matrix\n",
        "sigma_diag_matrix = np.diag(sigma)"
      ],
      "metadata": {
        "id": "CPizZFMmFrER"
      },
      "execution_count": null,
      "outputs": []
    },
    {
      "cell_type": "code",
      "source": [
        "# Reconstruct the predicted ratings\n",
        "predicted_ratings = np.dot(np.dot(U, sigma_diag_matrix), Vt) + user_item_mean.values.reshape(-1, 1)"
      ],
      "metadata": {
        "id": "rKb-GtdQFwTd"
      },
      "execution_count": null,
      "outputs": []
    },
    {
      "cell_type": "code",
      "source": [
        "# Create a DataFrame for predicted ratings\n",
        "predicted_ratings_df = pd.DataFrame(predicted_ratings,\n",
        "                                    columns=user_item_matrix.columns,\n",
        "                                    index=user_item_matrix.index)"
      ],
      "metadata": {
        "id": "L1bseilRF4X0"
      },
      "execution_count": null,
      "outputs": []
    },
    {
      "cell_type": "code",
      "source": [
        "predicted_ratings_df.head()"
      ],
      "metadata": {
        "id": "FtwBHNxQF-i4"
      },
      "execution_count": null,
      "outputs": []
    },
    {
      "cell_type": "code",
      "source": [
        "# set customer ID\n",
        "customer_id=12346.0"
      ],
      "metadata": {
        "id": "m2hi7DbMGEka"
      },
      "execution_count": null,
      "outputs": []
    },
    {
      "cell_type": "code",
      "source": [
        "# Get the user's predicted ratings for the given index\n",
        "user_predicted_ratings = predicted_ratings_df.loc[customer_id]"
      ],
      "metadata": {
        "id": "M94iL6_nGK3K"
      },
      "execution_count": null,
      "outputs": []
    },
    {
      "cell_type": "code",
      "source": [
        "unrated_items = user_item_matrix.loc[customer_id][user_item_matrix.loc[customer_id] == 0].index"
      ],
      "metadata": {
        "id": "VFMKl2OrGPn3"
      },
      "execution_count": null,
      "outputs": []
    },
    {
      "cell_type": "code",
      "source": [
        "predicted_top_rated_items = user_predicted_ratings[unrated_items].sort_values(ascending=False).index"
      ],
      "metadata": {
        "id": "oWFaddV9GdNY"
      },
      "execution_count": null,
      "outputs": []
    },
    {
      "cell_type": "code",
      "source": [
        "# Define a function to get movie recommendations for a given user\n",
        "def get_item_recommendations_svd(customer_id, num_recommendations=5):\n",
        "\n",
        "    # Get the user's predicted ratings\n",
        "    user_predicted_ratings = predicted_ratings_df.loc[customer_id]\n",
        "\n",
        "    # Find movies that the user has not already rated\n",
        "    unrated_items = user_item_matrix.loc[customer_id][user_item_matrix.loc[customer_id] == 0].index\n",
        "\n",
        "    # Get the predicted ratings for those unrated movies and sort them in descending order\n",
        "    top_rated_items = user_predicted_ratings[unrated_items].sort_values(ascending=False).index\n",
        "\n",
        "    # Choose the top k movies for recommendation\n",
        "    recommended_items = top_rated_items[:num_recommendations]\n",
        "\n",
        "    print(f\"Recommended items for user {customer_id}:\")\n",
        "    for customerid in recommended_items:\n",
        "        item_description = df[df['CustomerID'] == customerid]['Description'].values[0]\n",
        "        print(f\"CustomerID: {customerid}, Item: {description}\")\n",
        "\n",
        "    return print(f\"\\n Enjoy shopping!!!\")"
      ],
      "metadata": {
        "id": "B9svwbEoGk7K"
      },
      "execution_count": null,
      "outputs": []
    },
    {
      "cell_type": "code",
      "source": [
        "get_item_recommendations_svd(customer_id, num_recommendations=5)"
      ],
      "metadata": {
        "id": "mizbe5NAH13m"
      },
      "execution_count": null,
      "outputs": []
    },
    {
      "cell_type": "code",
      "source": [
        "# hybrid\n",
        "def hybrid_recommendation(CustomerID, Description, k=10):\n",
        "\n",
        "  # k: number of recommended items\n",
        "  cosine_sim = cosine_similarity(content_matrix)\n",
        "\n",
        "  # get index from the title\n",
        "  item_index=get_index_from_description(Description)\n",
        "\n",
        "  # pairwise cosine value for given item index\n",
        "  pairwise_cosine= list(enumerate(cosine_sim[item_index]))\n",
        "\n",
        "  # Selecting first 25 items with highest cosine value\n",
        "  sorted_cosine = sorted(pairwise_cosine,\n",
        "                               key=lambda x:x[1],\n",
        "                               reverse=True)[1:26]\n",
        "  # Store indices for item with high cosine value\n",
        "  item_indices= [i[0] for i in sorted_cosine]\n",
        "\n",
        "  # get item id from movie_indices\n",
        "  item_ids=[get_description_from_index(i) for i in item_indices]\n",
        "\n",
        "  # Get predicted value of the item for the user\n",
        "  predicted_rating= [predicted_ratings_df.loc[CustomerID][i] for i in item_ids]\n",
        "\n",
        "  # making a dataframe with item_ids with predicted value\n",
        "  item_rating=pd.DataFrame({'item_id': item_ids, 'pred_ratings': predicted_rating})\n",
        "\n",
        "  # Sort the DataFrame based on 'pred_ratings'\n",
        "  sorted_item_rating = item_rating.sort_values(by='pred_ratings',ascending=False)\n",
        "\n",
        "  # Getting list of top k items item id\n",
        "  top_k_item_ids= sorted_item_rating['item_id'].values[0:k].tolist()\n",
        "\n",
        "  print(f\"Recommended items for user {CustomerID} and item: {Description} are\")\n",
        "  for item_id in top_k_item_ids:\n",
        "        item_description = df[df['item_id'] == item_id]['Description'].values[0]\n",
        "        print(f\"Item ID: {item_id}, Title: {item_description}\")\n",
        "\n",
        "  return print(f\"\\n yay items to buy\")"
      ],
      "metadata": {
        "id": "hozcIpLCtH9V"
      },
      "execution_count": null,
      "outputs": []
    },
    {
      "cell_type": "code",
      "source": [
        "hybrid_recommendation(10, item_description, k=10)"
      ],
      "metadata": {
        "id": "5Wv3Xhmby95F"
      },
      "execution_count": null,
      "outputs": []
    },
    {
      "cell_type": "markdown",
      "source": [
        "# **Efficiency of our system**"
      ],
      "metadata": {
        "id": "IzNGR7-P1-vZ"
      }
    },
    {
      "cell_type": "markdown",
      "source": [
        "When creating our content-based recommender system, we explored using K-Nearest Neighbors and Singular Value Decomposition to find the best possible recommendations for our dataset. We determined that SVD gave us the best result, and it was more efficient due to it's ability to handle sparse data sets. For our hybrid recommender system, we tried two different approaches to creating the system. The first approach, attempted to create the system differently than the content-based system we made at the beginning. This hybrid system utilized cosine similarity outside of the functions that actually created the model. This forced Google Colab to use too much RAM power, and effectively crashed the program every time. To assess this issue, we used the collaborative and content-based models we initially made because they find cosine similarity inside of methods. This uses less RAM and is therefore more effiecient when working with a dataset as large as we are. In the end, by using SVD and moving where we calculated cosine similarity we were able to create a more efficient and accurate hybrid recommender system"
      ],
      "metadata": {
        "id": "e6692qv02IIs"
      }
    },
    {
      "cell_type": "code",
      "source": [],
      "metadata": {
        "id": "doSX6RpZ9U2-"
      },
      "execution_count": null,
      "outputs": []
    }
  ]
}